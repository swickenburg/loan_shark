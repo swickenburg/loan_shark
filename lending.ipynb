{
 "cells": [
  {
   "cell_type": "code",
   "execution_count": 1,
   "metadata": {
    "collapsed": false
   },
   "outputs": [
    {
     "name": "stdout",
     "output_type": "stream",
     "text": [
      "Populating the interactive namespace from numpy and matplotlib\n"
     ]
    }
   ],
   "source": [
    "%pylab inline"
   ]
  },
  {
   "cell_type": "code",
   "execution_count": 2,
   "metadata": {
    "collapsed": false
   },
   "outputs": [],
   "source": [
    "import lending as ld\n",
    "ld = reload(ld)"
   ]
  },
  {
   "cell_type": "code",
   "execution_count": 6,
   "metadata": {
    "collapsed": false
   },
   "outputs": [
    {
     "name": "stdout",
     "output_type": "stream",
     "text": [
      "make distribution from model\n",
      "0\n",
      "mean return : 1.12352458428\n",
      "1\n",
      "mean return : 1.17919033689\n",
      "2\n",
      "mean return : 1.18204034724\n",
      "3\n",
      "mean return : 1.12164853561\n",
      "4\n",
      "mean return : 1.12692461793\n",
      "5\n",
      "mean return : 1.08565566973\n",
      "6\n",
      "mean return : 0.964256594416\n",
      "7\n",
      "mean return : 1.09564312333\n",
      "8\n",
      "mean return : 1.23865438288\n",
      "9\n",
      "mean return : 1.07485948989\n",
      "10\n",
      "mean return : 1.12083146438\n",
      "11\n",
      "mean return : 1.12151025376\n",
      "12\n",
      "mean return : 1.15364901063\n",
      "13\n",
      "mean return : 1.09620698924\n",
      "14\n",
      "mean return : 1.16610177612\n",
      "15\n",
      "mean return : 1.20402247026\n",
      "16\n",
      "mean return : 1.1578898762\n",
      "17\n",
      "mean return : 1.17399259928\n",
      "18\n",
      "mean return : 1.1772233999\n",
      "19\n",
      "mean return : 1.26598828335\n",
      "20\n",
      "mean return : 1.04701283094\n",
      "21\n",
      "mean return : 1.15541975158\n",
      "22\n",
      "mean return : 1.19788133677\n",
      "23\n",
      "mean return : 1.14588622279\n",
      "24\n",
      "mean return : 1.10810301078\n",
      "25\n",
      "mean return : 1.04046668866\n",
      "26\n",
      "mean return : 1.19260372268\n",
      "27\n",
      "mean return : 1.21389914145\n",
      "28\n",
      "mean return : 1.21054188682\n",
      "29\n",
      "mean return : 1.14383597555\n",
      "30\n",
      "mean return : 1.20112768187\n",
      "31\n",
      "mean return : 1.0474164436\n",
      "32\n",
      "mean return : 1.18189162724\n",
      "33\n",
      "mean return : 1.10099120155\n",
      "34\n",
      "mean return : 1.15958063896\n",
      "35\n",
      "mean return : 1.13769912945\n",
      "36\n",
      "mean return : 1.1379622977\n",
      "37\n",
      "mean return : 1.11300557503\n",
      "38\n",
      "mean return : 1.054561663\n",
      "39\n",
      "mean return : 1.17408183789\n",
      "40\n",
      "mean return : 0.999514094573\n",
      "41\n",
      "mean return : 1.21934135167\n",
      "42\n",
      "mean return : 1.20469155871\n",
      "43\n",
      "mean return : 1.2057432236\n",
      "44\n",
      "mean return : 1.18820026219\n",
      "45\n",
      "mean return : 1.13857521961\n",
      "46\n",
      "mean return : 1.05262076114\n",
      "47\n"
     ]
    },
    {
     "name": "stderr",
     "output_type": "stream",
     "text": [
      "lending.py:261: SettingWithCopyWarning: \n",
      "A value is trying to be set on a copy of a slice from a DataFrame.\n",
      "Try using .loc[row_indexer,col_indexer] = value instead\n",
      "\n",
      "See the caveats in the documentation: http://pandas.pydata.org/pandas-docs/stable/indexing.html#indexing-view-versus-copy\n",
      "  / df_cont_convert['installment']\n"
     ]
    },
    {
     "ename": "KeyboardInterrupt",
     "evalue": "",
     "output_type": "error",
     "traceback": [
      "\u001b[0;31m---------------------------------------------------------------------------\u001b[0m",
      "\u001b[0;31mKeyboardInterrupt\u001b[0m                         Traceback (most recent call last)",
      "\u001b[0;32m/Users/Seabass/Dropbox/python/incubator/lending.py\u001b[0m in \u001b[0;36m<module>\u001b[0;34m()\u001b[0m\n\u001b[1;32m    513\u001b[0m \u001b[0;34m\u001b[0m\u001b[0m\n\u001b[1;32m    514\u001b[0m \u001b[0;32mif\u001b[0m \u001b[0m__name__\u001b[0m \u001b[0;34m==\u001b[0m \u001b[0;34m'__main__'\u001b[0m\u001b[0;34m:\u001b[0m\u001b[0;34m\u001b[0m\u001b[0m\n\u001b[0;32m--> 515\u001b[0;31m     \u001b[0mmain\u001b[0m\u001b[0;34m(\u001b[0m\u001b[0;34m)\u001b[0m\u001b[0;34m\u001b[0m\u001b[0m\n\u001b[0m",
      "\u001b[0;32m/Users/Seabass/Dropbox/python/incubator/lending.py\u001b[0m in \u001b[0;36mmain\u001b[0;34m()\u001b[0m\n\u001b[1;32m     27\u001b[0m     \u001b[0mdf_grade\u001b[0m \u001b[0;34m=\u001b[0m \u001b[0mmake_data_grade\u001b[0m\u001b[0;34m(\u001b[0m\u001b[0mdf\u001b[0m\u001b[0;34m)\u001b[0m\u001b[0;34m\u001b[0m\u001b[0m\n\u001b[1;32m     28\u001b[0m     mean_return_list_model = make_return_model(df, num_samples=500,\n\u001b[0;32m---> 29\u001b[0;31m             top_loans=10)\n\u001b[0m\u001b[1;32m     30\u001b[0m     (x, pdf_list) = combine_pdf_list(df, df_grade,\n\u001b[1;32m     31\u001b[0m             mean_return_list_model)\n",
      "\u001b[0;32m/Users/Seabass/Dropbox/python/incubator/lending.py\u001b[0m in \u001b[0;36mmake_return_model\u001b[0;34m(df, num_samples, top_loans)\u001b[0m\n\u001b[1;32m    159\u001b[0m             \u001b[0mdf_train\u001b[0m\u001b[0;34m,\u001b[0m\u001b[0;34m\u001b[0m\u001b[0m\n\u001b[1;32m    160\u001b[0m             \u001b[0mdf_val\u001b[0m\u001b[0;34m,\u001b[0m\u001b[0;34m\u001b[0m\u001b[0m\n\u001b[0;32m--> 161\u001b[0;31m             ) = make_data_clf(df)\n\u001b[0m\u001b[1;32m    162\u001b[0m \u001b[0;34m\u001b[0m\u001b[0m\n\u001b[1;32m    163\u001b[0m         \u001b[0mclf\u001b[0m \u001b[0;34m=\u001b[0m \u001b[0mLogisticRegression\u001b[0m\u001b[0;34m(\u001b[0m\u001b[0;34m)\u001b[0m\u001b[0;34m\u001b[0m\u001b[0m\n",
      "\u001b[0;32m/Users/Seabass/Dropbox/python/incubator/lending.py\u001b[0m in \u001b[0;36mmake_data_clf\u001b[0;34m(df)\u001b[0m\n\u001b[1;32m    249\u001b[0m     \u001b[0mdf\u001b[0m \u001b[0;34m=\u001b[0m \u001b[0mdf\u001b[0m\u001b[0;34m.\u001b[0m\u001b[0mix\u001b[0m\u001b[0;34m[\u001b[0m\u001b[0midx_high_grade\u001b[0m\u001b[0;34m]\u001b[0m\u001b[0;34m\u001b[0m\u001b[0m\n\u001b[1;32m    250\u001b[0m \u001b[0;34m\u001b[0m\u001b[0m\n\u001b[0;32m--> 251\u001b[0;31m     \u001b[0mdf_cont\u001b[0m \u001b[0;34m=\u001b[0m \u001b[0mdf\u001b[0m\u001b[0;34m.\u001b[0m\u001b[0mcopy\u001b[0m\u001b[0;34m(\u001b[0m\u001b[0;34m)\u001b[0m\u001b[0;34m\u001b[0m\u001b[0m\n\u001b[0m\u001b[1;32m    252\u001b[0m     \u001b[0mdf_cont\u001b[0m \u001b[0;34m=\u001b[0m \u001b[0mdf_cont\u001b[0m\u001b[0;34m[\u001b[0m\u001b[0mcolumns_cont\u001b[0m\u001b[0;34m]\u001b[0m\u001b[0;34m\u001b[0m\u001b[0m\n\u001b[1;32m    253\u001b[0m     \u001b[0mdf_cont_convert\u001b[0m \u001b[0;34m=\u001b[0m \u001b[0mmake_df_cont\u001b[0m\u001b[0;34m(\u001b[0m\u001b[0mdf_cont\u001b[0m\u001b[0;34m)\u001b[0m\u001b[0;34m\u001b[0m\u001b[0m\n",
      "\u001b[0;32m/usr/local/lib/python2.7/site-packages/pandas/core/generic.pyc\u001b[0m in \u001b[0;36mcopy\u001b[0;34m(self, deep)\u001b[0m\n\u001b[1;32m   2961\u001b[0m         \u001b[0mcopy\u001b[0m \u001b[0;34m:\u001b[0m \u001b[0mtype\u001b[0m \u001b[0mof\u001b[0m \u001b[0mcaller\u001b[0m\u001b[0;34m\u001b[0m\u001b[0m\n\u001b[1;32m   2962\u001b[0m         \"\"\"\n\u001b[0;32m-> 2963\u001b[0;31m         \u001b[0mdata\u001b[0m \u001b[0;34m=\u001b[0m \u001b[0mself\u001b[0m\u001b[0;34m.\u001b[0m\u001b[0m_data\u001b[0m\u001b[0;34m.\u001b[0m\u001b[0mcopy\u001b[0m\u001b[0;34m(\u001b[0m\u001b[0mdeep\u001b[0m\u001b[0;34m=\u001b[0m\u001b[0mdeep\u001b[0m\u001b[0;34m)\u001b[0m\u001b[0;34m\u001b[0m\u001b[0m\n\u001b[0m\u001b[1;32m   2964\u001b[0m         \u001b[0;32mreturn\u001b[0m \u001b[0mself\u001b[0m\u001b[0;34m.\u001b[0m\u001b[0m_constructor\u001b[0m\u001b[0;34m(\u001b[0m\u001b[0mdata\u001b[0m\u001b[0;34m)\u001b[0m\u001b[0;34m.\u001b[0m\u001b[0m__finalize__\u001b[0m\u001b[0;34m(\u001b[0m\u001b[0mself\u001b[0m\u001b[0;34m)\u001b[0m\u001b[0;34m\u001b[0m\u001b[0m\n\u001b[1;32m   2965\u001b[0m \u001b[0;34m\u001b[0m\u001b[0m\n",
      "\u001b[0;32m/usr/local/lib/python2.7/site-packages/pandas/core/internals.pyc\u001b[0m in \u001b[0;36mcopy\u001b[0;34m(self, deep, mgr)\u001b[0m\n\u001b[1;32m   3069\u001b[0m             \u001b[0mnew_axes\u001b[0m \u001b[0;34m=\u001b[0m \u001b[0mlist\u001b[0m\u001b[0;34m(\u001b[0m\u001b[0mself\u001b[0m\u001b[0;34m.\u001b[0m\u001b[0maxes\u001b[0m\u001b[0;34m)\u001b[0m\u001b[0;34m\u001b[0m\u001b[0m\n\u001b[1;32m   3070\u001b[0m         return self.apply('copy', axes=new_axes, deep=deep,\n\u001b[0;32m-> 3071\u001b[0;31m                           do_integrity_check=False)\n\u001b[0m\u001b[1;32m   3072\u001b[0m \u001b[0;34m\u001b[0m\u001b[0m\n\u001b[1;32m   3073\u001b[0m     \u001b[0;32mdef\u001b[0m \u001b[0mas_matrix\u001b[0m\u001b[0;34m(\u001b[0m\u001b[0mself\u001b[0m\u001b[0;34m,\u001b[0m \u001b[0mitems\u001b[0m\u001b[0;34m=\u001b[0m\u001b[0mNone\u001b[0m\u001b[0;34m)\u001b[0m\u001b[0;34m:\u001b[0m\u001b[0;34m\u001b[0m\u001b[0m\n",
      "\u001b[0;32m/usr/local/lib/python2.7/site-packages/pandas/core/internals.pyc\u001b[0m in \u001b[0;36mapply\u001b[0;34m(self, f, axes, filter, do_integrity_check, consolidate, **kwargs)\u001b[0m\n\u001b[1;32m   2830\u001b[0m \u001b[0;34m\u001b[0m\u001b[0m\n\u001b[1;32m   2831\u001b[0m             \u001b[0mkwargs\u001b[0m\u001b[0;34m[\u001b[0m\u001b[0;34m'mgr'\u001b[0m\u001b[0;34m]\u001b[0m \u001b[0;34m=\u001b[0m \u001b[0mself\u001b[0m\u001b[0;34m\u001b[0m\u001b[0m\n\u001b[0;32m-> 2832\u001b[0;31m             \u001b[0mapplied\u001b[0m \u001b[0;34m=\u001b[0m \u001b[0mgetattr\u001b[0m\u001b[0;34m(\u001b[0m\u001b[0mb\u001b[0m\u001b[0;34m,\u001b[0m \u001b[0mf\u001b[0m\u001b[0;34m)\u001b[0m\u001b[0;34m(\u001b[0m\u001b[0;34m**\u001b[0m\u001b[0mkwargs\u001b[0m\u001b[0;34m)\u001b[0m\u001b[0;34m\u001b[0m\u001b[0m\n\u001b[0m\u001b[1;32m   2833\u001b[0m             \u001b[0mresult_blocks\u001b[0m \u001b[0;34m=\u001b[0m \u001b[0m_extend_blocks\u001b[0m\u001b[0;34m(\u001b[0m\u001b[0mapplied\u001b[0m\u001b[0;34m,\u001b[0m \u001b[0mresult_blocks\u001b[0m\u001b[0;34m)\u001b[0m\u001b[0;34m\u001b[0m\u001b[0m\n\u001b[1;32m   2834\u001b[0m \u001b[0;34m\u001b[0m\u001b[0m\n",
      "\u001b[0;32m/usr/local/lib/python2.7/site-packages/pandas/core/internals.pyc\u001b[0m in \u001b[0;36mcopy\u001b[0;34m(self, deep, mgr)\u001b[0m\n\u001b[1;32m    571\u001b[0m         \u001b[0mvalues\u001b[0m \u001b[0;34m=\u001b[0m \u001b[0mself\u001b[0m\u001b[0;34m.\u001b[0m\u001b[0mvalues\u001b[0m\u001b[0;34m\u001b[0m\u001b[0m\n\u001b[1;32m    572\u001b[0m         \u001b[0;32mif\u001b[0m \u001b[0mdeep\u001b[0m\u001b[0;34m:\u001b[0m\u001b[0;34m\u001b[0m\u001b[0m\n\u001b[0;32m--> 573\u001b[0;31m             \u001b[0mvalues\u001b[0m \u001b[0;34m=\u001b[0m \u001b[0mvalues\u001b[0m\u001b[0;34m.\u001b[0m\u001b[0mcopy\u001b[0m\u001b[0;34m(\u001b[0m\u001b[0;34m)\u001b[0m\u001b[0;34m\u001b[0m\u001b[0m\n\u001b[0m\u001b[1;32m    574\u001b[0m         \u001b[0;32mreturn\u001b[0m \u001b[0mself\u001b[0m\u001b[0;34m.\u001b[0m\u001b[0mmake_block_same_class\u001b[0m\u001b[0;34m(\u001b[0m\u001b[0mvalues\u001b[0m\u001b[0;34m)\u001b[0m\u001b[0;34m\u001b[0m\u001b[0m\n\u001b[1;32m    575\u001b[0m \u001b[0;34m\u001b[0m\u001b[0m\n",
      "\u001b[0;31mKeyboardInterrupt\u001b[0m: "
     ]
    }
   ],
   "source": [
    "%run 'lending.py'"
   ]
  },
  {
   "cell_type": "code",
   "execution_count": null,
   "metadata": {
    "collapsed": true
   },
   "outputs": [],
   "source": []
  },
  {
   "cell_type": "code",
   "execution_count": 79,
   "metadata": {
    "collapsed": false
   },
   "outputs": [
    {
     "name": "stdout",
     "output_type": "stream",
     "text": [
      "make distribution from model\n",
      "0\n",
      "mean return : 1.06413303954\n",
      "1\n",
      "mean return : 1.03001511001\n",
      "2\n",
      "mean return : 1.18168577421\n",
      "3\n",
      "mean return : 1.1412174973\n",
      "4\n",
      "mean return : 1.14761563079\n",
      "5\n",
      "mean return : 1.10153307173\n",
      "6\n",
      "mean return : 0.949849018685\n",
      "7\n",
      "mean return : 1.12931292654\n",
      "8\n",
      "mean return : 1.0450943136\n",
      "9\n",
      "mean return : 1.22421620569\n",
      "10\n",
      "mean return : 1.20568537188\n",
      "11\n",
      "mean return : 1.2307816282\n",
      "12\n",
      "mean return : 1.25153880875\n",
      "13\n",
      "mean return : 1.23458372102\n",
      "14\n",
      "mean return : 1.02748381323\n",
      "15\n",
      "mean return : 1.1325030683\n",
      "16\n",
      "mean return : 1.24952077332\n",
      "17\n",
      "mean return : 1.06691862722\n",
      "18\n",
      "mean return : 1.17638302428\n",
      "19\n",
      "mean return : 1.18398812988\n",
      "20\n",
      "mean return : 1.10119897081\n",
      "21\n",
      "mean return : 1.14596324419\n",
      "22\n",
      "mean return : 1.21215734378\n",
      "23\n",
      "mean return : 1.10070022382\n",
      "24\n",
      "mean return : 1.13414881206\n",
      "25\n",
      "mean return : 1.11082331929\n",
      "26\n",
      "mean return : 0.984649320612\n",
      "27\n",
      "mean return : 1.20224451172\n",
      "28\n",
      "mean return : 1.09349999745\n",
      "29\n",
      "mean return : 1.10335953732\n",
      "30\n",
      "mean return : 1.08343316986\n",
      "31\n",
      "mean return : 1.17251890263\n",
      "32\n",
      "mean return : 1.19888621298\n",
      "33\n",
      "mean return : 1.16932917626\n",
      "34\n",
      "mean return : 1.16000270781\n",
      "35\n",
      "mean return : 0.977665238269\n",
      "36\n",
      "mean return : 1.04944033184\n",
      "37\n",
      "mean return : 1.17142563285\n",
      "38\n",
      "mean return : 1.12035209907\n",
      "39\n",
      "mean return : 1.12389664167\n",
      "40\n",
      "mean return : 1.09235250139\n",
      "41\n",
      "mean return : 1.13643693851\n",
      "42\n",
      "mean return : 1.16127770409\n",
      "43\n",
      "mean return : 1.03297334886\n",
      "44\n",
      "mean return : 1.18285792586\n",
      "45\n",
      "mean return : 1.10101350386\n",
      "46\n",
      "mean return : 1.23028461424\n",
      "47\n",
      "mean return : 1.10833806971\n",
      "48\n",
      "mean return : 1.17372073616\n",
      "49\n",
      "mean return : 1.21372364254\n",
      "50\n",
      "mean return : 1.05634933018\n",
      "51\n",
      "mean return : 1.21230848326\n",
      "52\n",
      "mean return : 1.1001067713\n",
      "53\n",
      "mean return : 1.13108277503\n",
      "54\n",
      "mean return : 1.19752934487\n",
      "55\n",
      "mean return : 1.08649590175\n",
      "56\n",
      "mean return : 1.22017091532\n",
      "57\n",
      "mean return : 1.13974612438\n",
      "58\n",
      "mean return : 1.18653206782\n",
      "59\n",
      "mean return : 1.17576545624\n",
      "60\n",
      "mean return : 1.2308038273\n",
      "61\n",
      "mean return : 1.12254309267\n",
      "62\n",
      "mean return : 1.12973894869\n",
      "63\n",
      "mean return : 1.11519606129\n",
      "64\n",
      "mean return : 1.10915923066\n",
      "65\n",
      "mean return : 0.982571052159\n",
      "66\n",
      "mean return : 1.01173054285\n",
      "67\n",
      "mean return : 1.14590968202\n",
      "68\n",
      "mean return : 1.17268830053\n",
      "69\n",
      "mean return : 1.20039278903\n",
      "70\n",
      "mean return : 1.23087252269\n",
      "71\n",
      "mean return : 1.18387227936\n",
      "72\n",
      "mean return : 1.16210240724\n",
      "73\n",
      "mean return : 1.10588472411\n",
      "74\n",
      "mean return : 1.2390034061\n",
      "75\n",
      "mean return : 1.17824479164\n",
      "76\n",
      "mean return : 1.14642422956\n",
      "77\n",
      "mean return : 1.07654532258\n",
      "78\n",
      "mean return : 1.03415804095\n",
      "79\n",
      "mean return : 1.109059455\n",
      "80\n",
      "mean return : 1.15282091591\n",
      "81\n",
      "mean return : 1.14162698938\n",
      "82\n",
      "mean return : 1.20482897747\n",
      "83\n",
      "mean return : 1.08306359034\n",
      "84\n",
      "mean return : 1.20427945942\n",
      "85\n",
      "mean return : 1.23204286814\n",
      "86\n",
      "mean return : 1.19104911434\n",
      "87\n",
      "mean return : 1.16097748389\n",
      "88\n",
      "mean return : 0.983284306054\n",
      "89\n",
      "mean return : 1.05160317511\n",
      "90\n",
      "mean return : 1.13642493223\n",
      "91\n",
      "mean return : 1.20628894024\n",
      "92\n",
      "mean return : 1.08428397808\n",
      "93\n",
      "mean return : 1.19362702276\n",
      "94\n",
      "mean return : 1.21921102781\n",
      "95\n",
      "mean return : 1.24275303454\n",
      "96\n",
      "mean return : 1.07944493526\n",
      "97\n",
      "mean return : 1.14250357382\n",
      "98\n",
      "mean return : 1.07320628733\n",
      "99\n",
      "mean return : 1.22835024198\n",
      "100\n",
      "mean return : 1.09257835535\n",
      "101\n",
      "mean return : 1.18282824214\n",
      "102\n",
      "mean return : 1.09116717575\n",
      "103\n",
      "mean return : 1.17453433677\n",
      "104\n",
      "mean return : 1.14685784654\n",
      "105\n",
      "mean return : 1.28279893985\n",
      "106\n",
      "mean return : 1.23140679067\n",
      "107\n",
      "mean return : 0.952417590973\n",
      "108\n",
      "mean return : 1.06051095277\n",
      "109\n",
      "mean return : 1.20061958041\n",
      "110\n",
      "mean return : 1.18927744325\n",
      "111\n",
      "mean return : 1.18202964704\n",
      "112\n",
      "mean return : 1.11966917606\n",
      "113\n",
      "mean return : 1.20472010792\n",
      "114\n",
      "mean return : 1.07943290297\n",
      "115\n",
      "mean return : 1.04722067523\n",
      "116\n",
      "mean return : 1.11733768835\n",
      "117\n",
      "mean return : 1.12273732356\n",
      "118\n",
      "mean return : 1.14072656871\n",
      "119\n",
      "mean return : 1.07392760715\n",
      "120\n",
      "mean return : 1.16751677378\n",
      "121\n",
      "mean return : 1.06701474825\n",
      "122\n",
      "mean return : 1.12375223282\n",
      "123\n",
      "mean return : 1.15721241371\n",
      "124\n",
      "mean return : 1.24822606653\n",
      "125\n",
      "mean return : 1.22319196408\n",
      "126\n",
      "mean return : 1.10145528586\n",
      "127\n",
      "mean return : 1.2142074228\n",
      "128\n",
      "mean return : 1.2067442065\n",
      "129\n",
      "mean return : 1.18848890721\n",
      "130\n",
      "mean return : 1.24383093115\n",
      "131\n",
      "mean return : 1.07980326914\n",
      "132\n",
      "mean return : 0.996417543527\n",
      "133\n",
      "mean return : 1.14216502137\n",
      "134\n",
      "mean return : 1.11809352441\n",
      "135\n",
      "mean return : 1.13187001354\n",
      "136\n",
      "mean return : 1.21525464222\n",
      "137\n",
      "mean return : 1.23225913024\n",
      "138\n",
      "mean return : 1.10666590377\n",
      "139\n",
      "mean return : 1.2089976048\n",
      "140\n",
      "mean return : 1.16148913945\n",
      "141\n",
      "mean return : 1.11320715198\n",
      "142\n",
      "mean return : 1.20586933354\n",
      "143\n",
      "mean return : 1.15247058073\n",
      "144\n",
      "mean return : 1.22852731968\n",
      "145\n",
      "mean return : 1.11587477112\n",
      "146\n",
      "mean return : 1.16259826708\n",
      "147\n",
      "mean return : 1.21417511389\n",
      "148\n",
      "mean return : 1.16113570932\n",
      "149\n",
      "mean return : 1.17063971729\n",
      "150\n",
      "mean return : 1.06892553022\n",
      "151\n",
      "mean return : 1.20543798234\n",
      "152\n",
      "mean return : 1.02838745479\n",
      "153\n",
      "mean return : 1.209795304\n",
      "154\n",
      "mean return : 1.26395184767\n",
      "155\n",
      "mean return : 1.17634713366\n",
      "156\n",
      "mean return : 1.11445235954\n",
      "157\n",
      "mean return : 1.1272634864\n",
      "158\n",
      "mean return : 1.21099551552\n",
      "159\n",
      "mean return : 1.11560161852\n",
      "160\n",
      "mean return : 1.11693948599\n",
      "161\n",
      "mean return : 1.11378768021\n",
      "162\n",
      "mean return : 1.19005884385\n",
      "163\n",
      "mean return : 1.10304318988\n",
      "164\n",
      "mean return : 1.14553893101\n",
      "165\n",
      "mean return : 1.13691473285\n",
      "166\n",
      "mean return : 1.03300785828\n",
      "167\n",
      "mean return : 1.12859510022\n",
      "168\n",
      "mean return : 1.23510705005\n",
      "169\n",
      "mean return : 1.20024102966\n",
      "170\n",
      "mean return : 0.9966294944\n",
      "171\n",
      "mean return : 1.20274154236\n",
      "172\n",
      "mean return : 1.14408554666\n",
      "173\n",
      "mean return : 1.17805112213\n",
      "174\n",
      "mean return : 1.01905011409\n",
      "175\n",
      "mean return : 1.05003892676\n",
      "176\n",
      "mean return : 1.09473687971\n",
      "177\n",
      "mean return : 1.18687310246\n",
      "178\n",
      "mean return : 1.06576048198\n",
      "179\n",
      "mean return : 1.11851930227\n",
      "180\n",
      "mean return : 1.14764316737\n",
      "181\n",
      "mean return : 1.12310135285\n",
      "182\n",
      "mean return : 1.17231632124\n",
      "183\n",
      "mean return : 1.07026253282\n",
      "184\n",
      "mean return : 1.10958875457\n",
      "185\n",
      "mean return : 1.14639655139\n",
      "186\n",
      "mean return : 1.1953168126\n",
      "187\n",
      "mean return : 1.19373518016\n",
      "188\n",
      "mean return : 1.17597373693\n",
      "189\n",
      "mean return : 1.16354873838\n",
      "190\n",
      "mean return : 1.09075969517\n",
      "191\n",
      "mean return : 1.15612072767\n",
      "192\n",
      "mean return : 1.08771217042\n",
      "193\n",
      "mean return : 1.16328089842\n",
      "194\n",
      "mean return : 1.14755898326\n",
      "195\n",
      "mean return : 1.19605887928\n",
      "196\n",
      "mean return : 1.10282691003\n",
      "197\n",
      "mean return : 1.24491911415\n",
      "198\n",
      "mean return : 1.07272396031\n",
      "199\n",
      "mean return : 1.22242002045\n",
      "200\n",
      "mean return : 1.19252844044\n",
      "201\n",
      "mean return : 1.13620228789\n",
      "202\n",
      "mean return : 1.27258462204\n",
      "203\n",
      "mean return : 1.12799652954\n",
      "204\n",
      "mean return : 1.22907006657\n",
      "205\n",
      "mean return : 1.06395424151\n",
      "206\n",
      "mean return : 1.05422252504\n",
      "207\n",
      "mean return : 1.10589467071\n",
      "208\n",
      "mean return : 1.18871781121\n",
      "209\n",
      "mean return : 1.07637492476\n",
      "210\n",
      "mean return : 1.14719180617\n",
      "211\n",
      "mean return : 1.0916391621\n",
      "212\n",
      "mean return : 1.2459415882\n",
      "213\n",
      "mean return : 1.12008506243\n",
      "214\n",
      "mean return : 1.13678804047\n",
      "215\n",
      "mean return : 1.15647683763\n",
      "216\n",
      "mean return : 1.1206115125\n",
      "217\n",
      "mean return : 1.12925766699\n",
      "218\n",
      "mean return : 1.22505104524\n",
      "219\n",
      "mean return : 1.19596717781\n",
      "220\n",
      "mean return : 1.1280960574\n",
      "221\n",
      "mean return : 1.18260708268\n",
      "222\n",
      "mean return : 1.10717077214\n",
      "223\n",
      "mean return : 1.07959915654\n",
      "224\n",
      "mean return : 1.1620024675\n",
      "225\n",
      "mean return : 1.14862282709\n",
      "226\n",
      "mean return : 1.21263750791\n",
      "227\n",
      "mean return : 1.2444805326\n",
      "228\n",
      "mean return : 1.05465826252\n",
      "229\n",
      "mean return : 1.09913346003\n",
      "230\n",
      "mean return : 1.13715926887\n",
      "231\n",
      "mean return : 1.06319376325\n",
      "232\n",
      "mean return : 1.22915972623\n",
      "233\n",
      "mean return : 1.07707987778\n",
      "234\n",
      "mean return : 1.12553016514\n",
      "235\n",
      "mean return : 1.05023907369\n",
      "236\n",
      "mean return : 1.12786506869\n",
      "237\n",
      "mean return : 1.13626348035\n",
      "238\n",
      "mean return : 1.16398635798\n",
      "239\n",
      "mean return : 1.08454923882\n",
      "240\n",
      "mean return : 1.19041365925\n",
      "241\n",
      "mean return : 0.954033892044\n",
      "242\n",
      "mean return : 1.20052229851\n",
      "243\n",
      "mean return : 1.20526410143\n",
      "244\n",
      "mean return : 1.16770256701\n",
      "245\n",
      "mean return : 1.15428663743\n",
      "246\n",
      "mean return : 1.15393203993\n",
      "247\n",
      "mean return : 1.25189818249\n",
      "248\n",
      "mean return : 1.16585523523\n",
      "249\n",
      "mean return : 1.1450554455\n",
      "250\n",
      "mean return : 1.22536751619\n",
      "251\n",
      "mean return : 1.1713465104\n",
      "252\n",
      "mean return : 1.14028522708\n",
      "253\n",
      "mean return : 0.995438259439\n",
      "254\n",
      "mean return : 1.19279089178\n",
      "255\n",
      "mean return : 1.22332518176\n",
      "256\n",
      "mean return : 1.14822742996\n",
      "257\n",
      "mean return : 0.953312724829\n",
      "258\n",
      "mean return : 1.20629754185\n",
      "259\n",
      "mean return : 1.11447055795\n",
      "260\n",
      "mean return : 1.099084627\n",
      "261\n",
      "mean return : 1.09020714478\n",
      "262\n",
      "mean return : 1.09553021709\n",
      "263\n",
      "mean return : 0.903220610257\n",
      "264\n",
      "mean return : 1.0372257414\n",
      "265\n",
      "mean return : 1.06439153125\n",
      "266\n",
      "mean return : 1.12385190113\n",
      "267\n",
      "mean return : 1.20872486839\n",
      "268\n",
      "mean return : 1.17797525801\n",
      "269\n",
      "mean return : 1.1333146198\n",
      "270\n",
      "mean return : 1.08274899864\n",
      "271\n",
      "mean return : 1.14795636045\n",
      "272\n",
      "mean return : 1.10860204438\n",
      "273\n",
      "mean return : 1.20754355704\n",
      "274\n",
      "mean return : 1.12697538267\n",
      "275\n",
      "mean return : 1.18548167285\n",
      "276\n",
      "mean return : 1.11240664837\n",
      "277\n",
      "mean return : 1.20162139126\n",
      "278\n",
      "mean return : 1.10122987459\n",
      "279\n",
      "mean return : 1.12172701382\n",
      "280\n",
      "mean return : 1.18525384847\n",
      "281\n",
      "mean return : 1.07959500499\n",
      "282\n",
      "mean return : 1.21027429744\n",
      "283\n",
      "mean return : 1.24056912783\n",
      "284\n",
      "mean return : 1.02694352806\n",
      "285\n",
      "mean return : 1.10528420847\n",
      "286\n",
      "mean return : 0.94148822505\n",
      "287\n",
      "mean return : 1.17744242863\n",
      "288\n",
      "mean return : 1.21153791516\n",
      "289\n",
      "mean return : 1.10868081628\n",
      "290\n",
      "mean return : 1.1867876165\n",
      "291\n",
      "mean return : 1.15323312914\n",
      "292\n",
      "mean return : 1.223190723\n",
      "293\n",
      "mean return : 1.1393480854\n",
      "294\n",
      "mean return : 1.18376286428\n",
      "295\n",
      "mean return : 1.19191276589\n",
      "296\n",
      "mean return : 1.2036073784\n",
      "297\n",
      "mean return : 1.23041378221\n",
      "298\n",
      "mean return : 1.07747419716\n",
      "299\n",
      "mean return : 1.23658269949\n",
      "300\n",
      "mean return : 1.23354997046\n",
      "301\n",
      "mean return : 1.13762767036\n",
      "302\n",
      "mean return : 1.17770167608\n",
      "303\n",
      "mean return : 1.2554613373\n",
      "304\n",
      "mean return : 1.1775656163\n",
      "305\n",
      "mean return : 1.16697052303\n",
      "306\n",
      "mean return : 1.19501466641\n",
      "307\n",
      "mean return : 1.11336907821\n",
      "308\n",
      "mean return : 1.0641695547\n",
      "309\n",
      "mean return : 1.20255455143\n",
      "310\n",
      "mean return : 1.21611221958\n",
      "311\n",
      "mean return : 1.10983776045\n",
      "312\n",
      "mean return : 1.26002702345\n",
      "313\n",
      "mean return : 1.06878609743\n",
      "314\n",
      "mean return : 1.140768465\n",
      "315\n",
      "mean return : 1.19257094514\n",
      "316\n",
      "mean return : 1.18111344778\n",
      "317\n",
      "mean return : 1.08676062605\n",
      "318\n",
      "mean return : 1.0924028955\n",
      "319\n",
      "mean return : 0.845782361663\n",
      "320\n",
      "mean return : 1.1583812448\n",
      "321\n",
      "mean return : 1.19770975142\n",
      "322\n",
      "mean return : 1.1220608352\n",
      "323\n",
      "mean return : 1.07553377524\n",
      "324\n",
      "mean return : 1.16001072342\n",
      "325\n",
      "mean return : 1.26236048877\n",
      "326\n",
      "mean return : 1.1801956528\n",
      "327\n",
      "mean return : 1.08266834578\n",
      "328\n",
      "mean return : 1.13909370923\n",
      "329\n",
      "mean return : 1.17421268726\n",
      "330\n",
      "mean return : 1.04286730397\n",
      "331\n",
      "mean return : 1.15034654122\n",
      "332\n",
      "mean return : 1.0716125063\n",
      "333\n",
      "mean return : 1.08623951118\n",
      "334\n",
      "mean return : 1.20080613125\n",
      "335\n",
      "mean return : 1.08680505649\n",
      "336\n",
      "mean return : 1.23954368638\n",
      "337\n",
      "mean return : 1.18167368273\n",
      "338\n",
      "mean return : 1.20814810073\n",
      "339\n",
      "mean return : 1.11160536231\n",
      "340\n",
      "mean return : 1.1614173031\n",
      "341\n",
      "mean return : 1.09076143598\n",
      "342\n",
      "mean return : 1.11460380884\n",
      "343\n",
      "mean return : 1.12837847794\n",
      "344\n",
      "mean return : 1.17990388739\n",
      "345\n",
      "mean return : 1.1257565461\n",
      "346\n",
      "mean return : 1.14639396701\n",
      "347\n",
      "mean return : 1.13967697792\n",
      "348\n",
      "mean return : 1.0257498498\n",
      "349\n",
      "mean return : 1.20461036188\n",
      "350\n",
      "mean return : 1.00078225099\n",
      "351\n",
      "mean return : 1.1906153779\n",
      "352\n",
      "mean return : 1.19236474191\n",
      "353\n",
      "mean return : 1.08064614317\n",
      "354\n",
      "mean return : 1.18732638599\n",
      "355\n",
      "mean return : 1.12345031777\n",
      "356\n",
      "mean return : 1.10503602867\n",
      "357\n",
      "mean return : 1.09651185352\n",
      "358\n",
      "mean return : 1.09830068864\n",
      "359\n",
      "mean return : 1.12083074894\n",
      "360\n",
      "mean return : 0.962042751427\n",
      "361\n",
      "mean return : 1.17580558804\n",
      "362\n",
      "mean return : 1.08800618521\n",
      "363\n",
      "mean return : 1.2710660108\n",
      "364\n",
      "mean return : 1.21229249641\n",
      "365\n",
      "mean return : 1.22583975335\n",
      "366\n",
      "mean return : 1.14740088129\n",
      "367\n",
      "mean return : 1.07717049444\n",
      "368\n",
      "mean return : 1.05301695085\n",
      "369\n",
      "mean return : 1.07616712272\n",
      "370\n",
      "mean return : 1.12741244557\n",
      "371\n",
      "mean return : 1.2371892821\n",
      "372\n",
      "mean return : 1.12700680064\n",
      "373\n",
      "mean return : 1.1684415608\n",
      "374\n",
      "mean return : 1.14096808815\n",
      "375\n",
      "mean return : 1.10957057304\n",
      "376\n",
      "mean return : 1.19385272135\n",
      "377\n",
      "mean return : 1.20048898548\n",
      "378\n",
      "mean return : 1.16265396962\n",
      "379\n",
      "mean return : 1.10292235435\n",
      "380\n",
      "mean return : 1.09912353344\n",
      "381\n",
      "mean return : 1.16147595978\n",
      "382\n",
      "mean return : 1.15650718018\n",
      "383\n",
      "mean return : 1.21111717573\n",
      "384\n",
      "mean return : 1.22952828531\n",
      "385\n",
      "mean return : 1.09112016409\n",
      "386\n",
      "mean return : 1.23358171966\n",
      "387\n",
      "mean return : 1.01300686739\n",
      "388\n",
      "mean return : 1.02179134127\n",
      "389\n",
      "mean return : 1.15155626777\n",
      "390\n",
      "mean return : 1.1345965101\n",
      "391\n",
      "mean return : 1.17099584376\n",
      "392\n",
      "mean return : 1.1005385002\n",
      "393\n",
      "mean return : 1.10817321286\n",
      "394\n",
      "mean return : 1.17473056675\n",
      "395\n",
      "mean return : 1.17589200904\n",
      "396\n",
      "mean return : 1.19013474609\n",
      "397\n",
      "mean return : 1.07417803093\n",
      "398\n",
      "mean return : 1.11487433122\n",
      "399\n",
      "mean return : 1.13739972895\n",
      "400\n",
      "mean return : 1.15464096308\n",
      "401\n",
      "mean return : 1.08463170131\n",
      "402\n",
      "mean return : 1.12507787603\n",
      "403\n",
      "mean return : 1.07701631536\n",
      "404\n",
      "mean return : 1.10071920774\n",
      "405\n",
      "mean return : 1.23996637907\n",
      "406\n",
      "mean return : 1.09091918747\n",
      "407\n",
      "mean return : 1.15014132079\n",
      "408\n",
      "mean return : 1.21772666736\n",
      "409\n",
      "mean return : 1.15516027416\n",
      "410\n",
      "mean return : 1.12039203115\n",
      "411\n",
      "mean return : 1.15119885638\n",
      "412\n",
      "mean return : 1.13451729364\n",
      "413\n",
      "mean return : 1.1153521023\n",
      "414\n",
      "mean return : 1.16695096958\n",
      "415\n",
      "mean return : 1.11766165199\n",
      "416\n",
      "mean return : 1.12589184225\n",
      "417\n",
      "mean return : 1.22419758868\n",
      "418\n",
      "mean return : 1.18245206396\n",
      "419\n",
      "mean return : 1.05531074928\n",
      "420\n",
      "mean return : 1.15016017487\n",
      "421\n",
      "mean return : 1.18822356682\n",
      "422\n",
      "mean return : 1.15540824735\n",
      "423\n",
      "mean return : 1.05344198859\n",
      "424\n",
      "mean return : 1.0795327195\n",
      "425\n",
      "mean return : 1.11582564643\n",
      "426\n",
      "mean return : 1.2039934799\n",
      "427\n",
      "mean return : 1.02792306987\n",
      "428\n",
      "mean return : 1.207625048\n",
      "429\n",
      "mean return : 1.19349434748\n",
      "430\n",
      "mean return : 1.19305921431\n",
      "431\n",
      "mean return : 1.0723343129\n",
      "432\n",
      "mean return : 1.16048691849\n",
      "433\n",
      "mean return : 1.19575584507\n",
      "434\n",
      "mean return : 1.13863652281\n",
      "435\n",
      "mean return : 1.00867970394\n",
      "436\n",
      "mean return : 1.14258183788\n",
      "437\n",
      "mean return : 1.18375890857\n",
      "438\n",
      "mean return : 1.08432161927\n",
      "439\n",
      "mean return : 1.2180537639\n",
      "440\n",
      "mean return : 1.12107972672\n",
      "441\n",
      "mean return : 1.04756269597\n",
      "442\n",
      "mean return : 1.19421637951\n",
      "443\n",
      "mean return : 1.15401778342\n",
      "444\n",
      "mean return : 1.200071571\n",
      "445\n",
      "mean return : 1.12454818691\n",
      "446\n",
      "mean return : 1.11715404972\n",
      "447\n",
      "mean return : 1.1687620517\n",
      "448\n",
      "mean return : 1.12413676835\n",
      "449\n",
      "mean return : 1.17933330055\n",
      "450\n",
      "mean return : 1.22219161504\n",
      "451\n",
      "mean return : 1.17440141174\n",
      "452\n",
      "mean return : 1.20886953633\n",
      "453\n",
      "mean return : 1.23468490653\n",
      "454\n",
      "mean return : 1.13960902881\n",
      "455\n",
      "mean return : 1.1190038386\n",
      "456\n",
      "mean return : 1.18030366275\n",
      "457\n",
      "mean return : 1.18015751756\n",
      "458\n",
      "mean return : 1.1402568279\n",
      "459\n",
      "mean return : 1.15887116688\n",
      "460\n",
      "mean return : 1.15961447816\n",
      "461\n",
      "mean return : 1.1615198593\n",
      "462\n",
      "mean return : 1.14501432348\n",
      "463\n",
      "mean return : 0.984992020398\n",
      "464\n",
      "mean return : 1.11621197429\n",
      "465\n",
      "mean return : 1.08010869611\n",
      "466\n",
      "mean return : 1.22166461576\n",
      "467\n",
      "mean return : 1.11353221871\n",
      "468\n",
      "mean return : 1.12394573611\n",
      "469\n",
      "mean return : 1.21848462136\n",
      "470\n",
      "mean return : 1.1248717715\n",
      "471\n",
      "mean return : 1.16147448673\n",
      "472\n",
      "mean return : 1.13933177162\n",
      "473\n",
      "mean return : 1.16776532258\n",
      "474\n",
      "mean return : 1.1942697957\n",
      "475\n",
      "mean return : 1.16384057304\n",
      "476\n",
      "mean return : 1.23832313403\n",
      "477\n",
      "mean return : 1.02383760622\n",
      "478\n",
      "mean return : 1.09832211527\n",
      "479\n",
      "mean return : 1.14479469202\n",
      "480\n",
      "mean return : 1.07510498105\n",
      "481\n",
      "mean return : 1.16700727444\n",
      "482\n",
      "mean return : 1.13138096707\n",
      "483\n",
      "mean return : 1.15875454133\n",
      "484\n",
      "mean return : 1.08711143867\n",
      "485\n",
      "mean return : 1.18810534249\n",
      "486\n",
      "mean return : 1.13939038511\n",
      "487\n",
      "mean return : 1.11733595381\n",
      "488\n",
      "mean return : 1.17963125673\n",
      "489\n",
      "mean return : 1.03768425503\n",
      "490\n",
      "mean return : 1.20513345006\n",
      "491\n",
      "mean return : 1.13424907031\n",
      "492\n",
      "mean return : 1.17069895897\n",
      "493\n",
      "mean return : 1.23030357042\n",
      "494\n",
      "mean return : 1.13654317127\n",
      "495\n",
      "mean return : 1.16014802827\n",
      "496\n",
      "mean return : 1.19929181856\n",
      "497\n",
      "mean return : 1.1568053195\n",
      "498\n",
      "mean return : 0.96632323376\n",
      "499\n",
      "mean return : 1.1921023617\n",
      "make distributions from loan grades\n",
      "0\n",
      "1\n",
      "2\n",
      "3\n"
     ]
    }
   ],
   "source": [
    "df = ld.load_data()\n",
    "df_grade = ld.make_data_grade(df)\n",
    "mean_return_list_model = ld.make_return_model(df, num_samples=500,\n",
    "    top_loans=10)\n",
    "(x, pdf_list) = ld.combine_pdf_list(df, df_grade, mean_return_list_model)\n"
   ]
  },
  {
   "cell_type": "code",
   "execution_count": 98,
   "metadata": {
    "collapsed": false
   },
   "outputs": [
    {
     "data": {
      "image/png": "[encoded data removed]",
      "text/plain": [
       "<matplotlib.figure.Figure at 0x11029b450>"
      ]
     },
     "metadata": {},
     "output_type": "display_data"
    }
   ],
   "source": [
    "ld.plot_pdf(x, pdf_list)"
   ]
  },
  {
   "cell_type": "code",
   "execution_count": 97,
   "metadata": {
    "collapsed": false
   },
   "outputs": [
    {
     "data": {
      "image/png": "[encoded data removed]",
      "text/plain": [
       "<matplotlib.figure.Figure at 0x133ef3c10>"
      ]
     },
     "metadata": {},
     "output_type": "display_data"
    }
   ],
   "source": [
    "ld.plot_default_rate(df, df_grade)"
   ]
  },
  {
   "cell_type": "code",
   "execution_count": 73,
   "metadata": {
    "collapsed": false
   },
   "outputs": [
    {
     "name": "stdout",
     "output_type": "stream",
     "text": [
      "make distribution from model\n",
      "0\n",
      "mean return : 1.12558461928\n",
      "1\n",
      "mean return : 1.16217004426\n",
      "2\n",
      "mean return : 1.22741300341\n",
      "3\n",
      "mean return : 1.17509422545\n",
      "4\n",
      "mean return : 1.16013762857\n",
      "5\n",
      "mean return : 1.14226440103\n",
      "6\n",
      "mean return : 1.08241140342\n",
      "7\n",
      "mean return : 1.13744027369\n",
      "8\n",
      "mean return : 1.13621691821\n",
      "9\n",
      "mean return : 1.16221034841\n",
      "10\n",
      "mean return : 1.1898169347\n",
      "11\n",
      "mean return : 1.14284509404\n",
      "12\n",
      "mean return : 1.10198065958\n",
      "13\n",
      "mean return : 1.14564787933\n",
      "14\n",
      "mean return : 1.15099291744\n",
      "15\n",
      "mean return : 1.17896896156\n",
      "16\n",
      "mean return : 1.04059084693\n",
      "17\n",
      "mean return : 1.16910241933\n",
      "18\n",
      "mean return : 1.11714196574\n",
      "19\n",
      "mean return : 1.20618500941\n",
      "20\n",
      "mean return : 1.18038032197\n",
      "21\n",
      "mean return : 1.17227229726\n",
      "22\n",
      "mean return : 1.18367264856\n",
      "23\n",
      "mean return : 1.21500246034\n",
      "24\n",
      "mean return : 1.10717202536\n",
      "25\n",
      "mean return : 1.10138624152\n",
      "26\n",
      "mean return : 1.21761397066\n",
      "27\n",
      "mean return : 1.10135899767\n",
      "28\n",
      "mean return : 1.19355428996\n",
      "29\n",
      "mean return : 1.09758540772\n",
      "30\n",
      "mean return : 1.05298286182\n",
      "31\n",
      "mean return : 1.03624363578\n",
      "32\n",
      "mean return : 1.2144069578\n",
      "33\n",
      "mean return : 1.02176732349\n",
      "34\n",
      "mean return : 1.05155740516\n",
      "35\n",
      "mean return : 1.19018744588\n",
      "36\n",
      "mean return : 1.17830966108\n",
      "37\n",
      "mean return : 1.19380443115\n",
      "38\n",
      "mean return : 1.11222488084\n",
      "39\n",
      "mean return : 1.10871073914\n",
      "40\n",
      "mean return : 1.09638810398\n",
      "41\n",
      "mean return : 1.19142895129\n",
      "42\n",
      "mean return : 1.24178285199\n",
      "43\n",
      "mean return : 0.979585331381\n",
      "44\n",
      "mean return : 1.0552083643\n",
      "45\n",
      "mean return : 1.21955666766\n",
      "46\n",
      "mean return : 1.09097874376\n",
      "47\n",
      "mean return : 1.16126126712\n",
      "48\n",
      "mean return : 1.16692999114\n",
      "49\n",
      "mean return : 1.05589310352\n",
      "50\n",
      "mean return : 1.06174342603\n",
      "51\n",
      "mean return : 1.18102068091\n",
      "52\n",
      "mean return : 1.12042410809\n",
      "53\n",
      "mean return : 1.03444052644\n",
      "54\n",
      "mean return : 1.21008851384\n",
      "55\n",
      "mean return : 1.16218887445\n",
      "56\n",
      "mean return : 1.0599268886\n",
      "57\n",
      "mean return : 1.10338714455\n",
      "58\n",
      "mean return : 1.10862261531\n",
      "59\n",
      "mean return : 1.16589519583\n",
      "60\n",
      "mean return : 1.1683971229\n",
      "61\n",
      "mean return : 1.06841068981\n",
      "62\n",
      "mean return : 1.11172189865\n",
      "63\n",
      "mean return : 1.27494194075\n",
      "64\n",
      "mean return : 1.15156126202\n",
      "65\n",
      "mean return : 1.2503244249\n",
      "66\n",
      "mean return : 1.11100872343\n",
      "67\n",
      "mean return : 1.08639052865\n",
      "68\n",
      "mean return : 1.07287251045\n",
      "69\n",
      "mean return : 1.14474019584\n",
      "70\n",
      "mean return : 1.20947341359\n",
      "71\n",
      "mean return : 1.16143614713\n",
      "72\n",
      "mean return : 1.22619931019\n",
      "73\n",
      "mean return : 1.17100108047\n",
      "74\n",
      "mean return : 1.23302663222\n",
      "75\n",
      "mean return : 1.19306434029\n",
      "76\n",
      "mean return : 1.17275140817\n",
      "77\n",
      "mean return : 1.13856782247\n",
      "78\n",
      "mean return : 1.17553041153\n",
      "79\n",
      "mean return : 1.19365958279\n",
      "80\n",
      "mean return : 1.07121138032\n",
      "81\n",
      "mean return : 1.12606967431\n",
      "82\n",
      "mean return : 1.13871361962\n",
      "83\n",
      "mean return : 1.15592669643\n",
      "84\n",
      "mean return : 1.13034413714\n",
      "85\n",
      "mean return : 1.19639577278\n",
      "86\n",
      "mean return : 1.10781810712\n",
      "87\n",
      "mean return : 1.16061191671\n",
      "88\n",
      "mean return : 1.15769561653\n",
      "89\n",
      "mean return : 1.22316472104\n",
      "90\n",
      "mean return : 1.16397056291\n",
      "91\n",
      "mean return : 1.03683635868\n",
      "92\n",
      "mean return : 1.04641422735\n",
      "93\n",
      "mean return : 1.02619810719\n",
      "94\n",
      "mean return : 1.11202315297\n",
      "95\n",
      "mean return : 1.16679113757\n",
      "96\n",
      "mean return : 1.17206147144\n",
      "97\n",
      "mean return : 1.22339877821\n",
      "98\n",
      "mean return : 1.18308850586\n",
      "99\n",
      "mean return : 1.15877457169\n",
      "100\n",
      "mean return : 0.972754359824\n",
      "101\n",
      "mean return : 1.21229348095\n",
      "102\n",
      "mean return : 1.26539733475\n",
      "103\n",
      "mean return : 1.15712098531\n",
      "104\n",
      "mean return : 1.15353194085\n",
      "105\n",
      "mean return : 1.23804143803\n",
      "106\n",
      "mean return : 1.06141737643\n",
      "107\n",
      "mean return : 1.15553390517\n",
      "108\n",
      "mean return : 1.07852515889\n",
      "109\n",
      "mean return : 1.1909548949\n",
      "110\n",
      "mean return : 1.17927717067\n",
      "111\n",
      "mean return : 1.13834866083\n",
      "112\n",
      "mean return : 1.05636431236\n",
      "113\n",
      "mean return : 1.15221395511\n",
      "114\n",
      "mean return : 1.18871817939\n",
      "115\n",
      "mean return : 1.16538167824\n",
      "116\n",
      "mean return : 1.13993583751\n",
      "117\n",
      "mean return : 1.17166692835\n",
      "118\n",
      "mean return : 1.12907166353\n",
      "119\n",
      "mean return : 1.10068746996\n",
      "120\n",
      "mean return : 1.19514079583\n",
      "121\n",
      "mean return : 1.12368173234\n",
      "122\n",
      "mean return : 1.1839391146\n",
      "123\n",
      "mean return : 1.14285110495\n",
      "124\n",
      "mean return : 1.21914935269\n",
      "125\n",
      "mean return : 1.09126084426\n",
      "126\n",
      "mean return : 1.1580162164\n",
      "127\n",
      "mean return : 1.09442938799\n",
      "128\n",
      "mean return : 1.20588140187\n",
      "129\n",
      "mean return : 1.21807384718\n",
      "130\n",
      "mean return : 1.1006549652\n",
      "131\n",
      "mean return : 1.17675329149\n",
      "132\n",
      "mean return : 1.07978463228\n",
      "133\n",
      "mean return : 1.15165020203\n",
      "134\n",
      "mean return : 1.15394602467\n",
      "135\n",
      "mean return : 1.17272482799\n",
      "136\n",
      "mean return : 1.05248878221\n",
      "137\n",
      "mean return : 1.07816296522\n",
      "138\n",
      "mean return : 1.19779967763\n",
      "139\n",
      "mean return : 1.03666969444\n",
      "140\n",
      "mean return : 1.1600781253\n",
      "141\n",
      "mean return : 1.205118155\n",
      "142\n",
      "mean return : 1.0568120651\n",
      "143\n",
      "mean return : 1.16716465633\n",
      "144\n",
      "mean return : 1.21163007049\n",
      "145\n",
      "mean return : 0.94600162245\n",
      "146\n",
      "mean return : 1.16813094679\n",
      "147\n",
      "mean return : 1.08212741041\n",
      "148\n",
      "mean return : 1.09263040238\n",
      "149\n",
      "mean return : 1.15962774504\n",
      "150\n",
      "mean return : 1.21666616634\n",
      "151\n",
      "mean return : 1.23052423063\n",
      "152\n",
      "mean return : 1.09118692792\n",
      "153\n",
      "mean return : 1.13536701946\n",
      "154\n",
      "mean return : 1.23958852177\n",
      "155\n",
      "mean return : 1.19927903613\n",
      "156\n",
      "mean return : 1.15795093311\n",
      "157\n",
      "mean return : 1.16616662364\n",
      "158\n",
      "mean return : 1.18262631184\n",
      "159\n",
      "mean return : 1.20931833615\n",
      "160\n",
      "mean return : 1.05128851247\n",
      "161\n",
      "mean return : 1.10404197192\n",
      "162\n",
      "mean return : 1.10096592463\n",
      "163\n",
      "mean return : 1.14638475664\n",
      "164\n",
      "mean return : 1.14109326309\n",
      "165\n",
      "mean return : 1.0374685601\n",
      "166\n",
      "mean return : 1.04905181896\n",
      "167\n",
      "mean return : 1.09519449042\n",
      "168\n",
      "mean return : 1.21508507987\n",
      "169\n",
      "mean return : 1.19092396897\n",
      "170\n",
      "mean return : 1.1759104867\n",
      "171\n",
      "mean return : 1.23044311472\n",
      "172\n",
      "mean return : 1.13146413474\n",
      "173\n",
      "mean return : 1.19922044115\n",
      "174\n",
      "mean return : 1.17835338026\n",
      "175\n",
      "mean return : 1.13827630607\n",
      "176\n",
      "mean return : 1.16150032456\n",
      "177\n",
      "mean return : 1.16401216144\n",
      "178\n",
      "mean return : 1.21757001467\n",
      "179\n",
      "mean return : 1.15721504803\n",
      "180\n",
      "mean return : 1.13863027927\n",
      "181\n",
      "mean return : 1.21554267491\n",
      "182\n",
      "mean return : 1.14144123764\n",
      "183\n",
      "mean return : 1.03483273816\n",
      "184\n",
      "mean return : 1.09520639006\n",
      "185\n",
      "mean return : 1.19715675006\n",
      "186\n",
      "mean return : 1.20632572132\n",
      "187\n",
      "mean return : 1.16585143236\n",
      "188\n",
      "mean return : 1.19741658908\n",
      "189\n",
      "mean return : 1.09931293888\n",
      "190\n",
      "mean return : 1.19022034968\n",
      "191\n",
      "mean return : 1.14929900035\n",
      "192\n",
      "mean return : 1.06386681105\n",
      "193\n",
      "mean return : 1.09861424101\n",
      "194\n",
      "mean return : 1.14901101725\n",
      "195\n",
      "mean return : 1.06053767192\n",
      "196\n",
      "mean return : 1.13617619006\n",
      "197\n",
      "mean return : 1.14541995584\n",
      "198\n",
      "mean return : 1.21421205171\n",
      "199\n",
      "mean return : 1.18762579222\n",
      "200\n",
      "mean return : 1.0579946469\n",
      "201\n",
      "mean return : 1.13806002258\n",
      "202\n",
      "mean return : 1.15828196923\n",
      "203\n",
      "mean return : 1.15952345369\n",
      "204\n",
      "mean return : 1.07191092882\n",
      "205\n",
      "mean return : 1.07265846093\n",
      "206\n",
      "mean return : 1.22219739747\n",
      "207\n",
      "mean return : 1.16495944063\n",
      "208\n",
      "mean return : 1.09194918844\n",
      "209\n",
      "mean return : 1.1144384793\n",
      "210\n",
      "mean return : 1.14331351117\n",
      "211\n",
      "mean return : 1.24854864305\n",
      "212\n",
      "mean return : 1.08623827734\n",
      "213\n",
      "mean return : 1.16968545979\n",
      "214\n",
      "mean return : 1.1924209455\n",
      "215\n",
      "mean return : 1.11258106969\n",
      "216\n",
      "mean return : 1.08999431757\n",
      "217\n",
      "mean return : 1.12592582103\n",
      "218\n",
      "mean return : 1.18423251856\n",
      "219\n",
      "mean return : 1.08223157846\n",
      "220\n",
      "mean return : 1.13510782058\n",
      "221\n",
      "mean return : 1.21847838475\n",
      "222\n",
      "mean return : 1.14017156656\n",
      "223\n",
      "mean return : 1.18748144578\n",
      "224\n",
      "mean return : 1.15483980293\n",
      "225\n",
      "mean return : 1.05742013917\n",
      "226\n",
      "mean return : 1.20618664988\n",
      "227\n",
      "mean return : 1.13414643236\n",
      "228\n",
      "mean return : 1.14227711064\n",
      "229\n",
      "mean return : 1.16622521861\n",
      "230\n",
      "mean return : 1.04981270016\n",
      "231\n",
      "mean return : 1.12673576551\n",
      "232\n",
      "mean return : 1.19085760019\n",
      "233\n",
      "mean return : 1.16071058562\n",
      "234\n",
      "mean return : 1.14167649642\n",
      "235\n",
      "mean return : 1.15470889822\n",
      "236\n",
      "mean return : 1.1544586971\n",
      "237\n",
      "mean return : 1.10308167074\n",
      "238\n",
      "mean return : 1.12565269531\n",
      "239\n",
      "mean return : 1.12703451599\n",
      "240\n",
      "mean return : 0.99055831472\n",
      "241\n",
      "mean return : 1.05917112101\n",
      "242\n",
      "mean return : 1.08874606179\n",
      "243\n",
      "mean return : 1.16896169207\n",
      "244\n",
      "mean return : 1.23170518132\n",
      "245\n",
      "mean return : 1.22502700016\n",
      "246\n",
      "mean return : 1.09666903143\n",
      "247\n",
      "mean return : 1.15799908837\n",
      "248\n",
      "mean return : 1.14630469194\n",
      "249\n",
      "mean return : 1.16755638531\n",
      "250\n",
      "mean return : 1.11695123489\n",
      "251\n",
      "mean return : 1.08786205429\n",
      "252\n",
      "mean return : 1.09828800693\n",
      "253\n",
      "mean return : 1.09564812699\n",
      "254\n",
      "mean return : 1.25000438537\n",
      "255\n",
      "mean return : 1.1213619541\n",
      "256\n",
      "mean return : 1.20204181449\n",
      "257\n",
      "mean return : 1.12541472597\n",
      "258\n",
      "mean return : 1.11042870048\n",
      "259\n",
      "mean return : 1.1427370738\n",
      "260\n",
      "mean return : 1.08282314879\n",
      "261\n",
      "mean return : 1.19678028997\n",
      "262\n",
      "mean return : 1.14355929471\n",
      "263\n",
      "mean return : 1.12285407956\n",
      "264\n",
      "mean return : 1.132269293\n",
      "265\n",
      "mean return : 1.20452174725\n",
      "266\n",
      "mean return : 1.10964824738\n",
      "267\n",
      "mean return : 1.06274621223\n",
      "268\n",
      "mean return : 1.13149696118\n",
      "269\n",
      "mean return : 1.2416247009\n",
      "270\n",
      "mean return : 1.10651330454\n",
      "271\n",
      "mean return : 1.15277248935\n",
      "272\n",
      "mean return : 1.17204305723\n",
      "273\n",
      "mean return : 1.25242913892\n",
      "274\n",
      "mean return : 1.08179646137\n",
      "275\n",
      "mean return : 1.03127291904\n",
      "276\n",
      "mean return : 1.08447914219\n",
      "277\n",
      "mean return : 1.18139964334\n",
      "278\n",
      "mean return : 1.10215753802\n",
      "279\n",
      "mean return : 1.19695219524\n",
      "280\n",
      "mean return : 1.21039341094\n",
      "281\n",
      "mean return : 1.12764202736\n",
      "282\n",
      "mean return : 1.18207053304\n",
      "283\n",
      "mean return : 1.08123990478\n",
      "284\n",
      "mean return : 1.0304702378\n",
      "285\n",
      "mean return : 1.09445809503\n",
      "286\n",
      "mean return : 1.11115405272\n",
      "287\n",
      "mean return : 1.13681236399\n",
      "288\n",
      "mean return : 1.13104666581\n",
      "289\n",
      "mean return : 1.1831449939\n",
      "290\n",
      "mean return : 1.14597553362\n",
      "291\n",
      "mean return : 1.14700380185\n",
      "292\n",
      "mean return : 1.19908384417\n",
      "293\n",
      "mean return : 1.12841605418\n",
      "294\n",
      "mean return : 1.09892955047\n",
      "295\n",
      "mean return : 1.20845490968\n",
      "296\n",
      "mean return : 1.16778725877\n",
      "297\n",
      "mean return : 1.15869990183\n",
      "298\n",
      "mean return : 1.18293740384\n",
      "299\n",
      "mean return : 1.09584252957\n",
      "300\n",
      "mean return : 1.17232399681\n",
      "301\n",
      "mean return : 0.97882063881\n",
      "302\n",
      "mean return : 1.15108806271\n",
      "303\n",
      "mean return : 1.05586417587\n",
      "304\n",
      "mean return : 1.04072575131\n",
      "305\n",
      "mean return : 1.05606620436\n",
      "306\n",
      "mean return : 1.15583882973\n",
      "307\n",
      "mean return : 1.14456553783\n",
      "308\n",
      "mean return : 1.17819310676\n",
      "309\n",
      "mean return : 1.21054038643\n",
      "310\n",
      "mean return : 1.10976681101\n",
      "311\n",
      "mean return : 1.2139372409\n",
      "312\n",
      "mean return : 1.10469179332\n",
      "313\n",
      "mean return : 1.03766634269\n",
      "314\n",
      "mean return : 1.20353924087\n",
      "315\n",
      "mean return : 1.05016931164\n",
      "316\n",
      "mean return : 1.08752377154\n",
      "317\n",
      "mean return : 1.16370389413\n",
      "318\n",
      "mean return : 1.01512073182\n",
      "319\n",
      "mean return : 1.13439725534\n",
      "320\n",
      "mean return : 1.15419322893\n",
      "321\n",
      "mean return : 1.10112784747\n",
      "322\n",
      "mean return : 1.19545463852\n",
      "323\n",
      "mean return : 1.09806095077\n",
      "324\n",
      "mean return : 1.14819821513\n",
      "325\n",
      "mean return : 1.06134650457\n",
      "326\n",
      "mean return : 1.14801309242\n",
      "327\n",
      "mean return : 1.21134828279\n",
      "328\n",
      "mean return : 1.07890578413\n",
      "329\n",
      "mean return : 1.13824563188\n",
      "330\n",
      "mean return : 1.18449080271\n",
      "331\n",
      "mean return : 1.21962392747\n",
      "332\n",
      "mean return : 1.15097315645\n",
      "333\n",
      "mean return : 1.18001402291\n",
      "334\n",
      "mean return : 1.09118362059\n",
      "335\n",
      "mean return : 1.17885120301\n",
      "336\n",
      "mean return : 1.12307250393\n",
      "337\n",
      "mean return : 1.22950548671\n",
      "338\n",
      "mean return : 1.16827691884\n",
      "339\n",
      "mean return : 1.22486356377\n",
      "340\n",
      "mean return : 1.1623045712\n",
      "341\n",
      "mean return : 1.13970480623\n",
      "342\n",
      "mean return : 1.11950567155\n",
      "343\n",
      "mean return : 1.10235424923\n",
      "344\n",
      "mean return : 1.21155025193\n",
      "345\n",
      "mean return : 1.15450860986\n",
      "346\n",
      "mean return : 1.08731164292\n",
      "347\n",
      "mean return : 1.06432362126\n",
      "348\n",
      "mean return : 1.14820614063\n",
      "349\n",
      "mean return : 1.05800415474\n",
      "350\n",
      "mean return : 1.08875638272\n",
      "351\n",
      "mean return : 1.03783505206\n",
      "352\n",
      "mean return : 1.09471900969\n",
      "353\n",
      "mean return : 1.12873900337\n",
      "354\n",
      "mean return : 1.11107252568\n",
      "355\n",
      "mean return : 1.14960283219\n",
      "356\n",
      "mean return : 1.19173651374\n",
      "357\n",
      "mean return : 0.963652879159\n",
      "358\n",
      "mean return : 1.12837037212\n",
      "359\n",
      "mean return : 1.12952117869\n",
      "360\n",
      "mean return : 1.1172688783\n",
      "361\n",
      "mean return : 1.1335139397\n",
      "362\n",
      "mean return : 1.0985836154\n",
      "363\n",
      "mean return : 1.09505528308\n",
      "364\n",
      "mean return : 1.11382093775\n",
      "365\n",
      "mean return : 1.2601112965\n",
      "366\n",
      "mean return : 1.07180353976\n",
      "367\n",
      "mean return : 1.14872407554\n",
      "368\n",
      "mean return : 1.15927629517\n",
      "369\n",
      "mean return : 1.14112245339\n",
      "370\n",
      "mean return : 1.04038303258\n",
      "371\n",
      "mean return : 1.18113848046\n",
      "372\n",
      "mean return : 1.12437125695\n",
      "373\n",
      "mean return : 1.19457419177\n",
      "374\n",
      "mean return : 1.19211296643\n",
      "375\n",
      "mean return : 0.997845338135\n",
      "376\n",
      "mean return : 1.2424551625\n",
      "377\n",
      "mean return : 1.15915998116\n",
      "378\n",
      "mean return : 1.22712223779\n",
      "379\n",
      "mean return : 1.11144920008\n",
      "380\n",
      "mean return : 1.1658427593\n",
      "381\n",
      "mean return : 1.24011734423\n",
      "382\n",
      "mean return : 1.13142318576\n",
      "383\n",
      "mean return : 1.17861429158\n",
      "384\n",
      "mean return : 1.11535754308\n",
      "385\n",
      "mean return : 1.16588995978\n",
      "386\n",
      "mean return : 1.17834399952\n",
      "387\n",
      "mean return : 1.12671245593\n",
      "388\n",
      "mean return : 1.21424108403\n",
      "389\n",
      "mean return : 1.23751343168\n",
      "390\n",
      "mean return : 1.18841929296\n",
      "391\n",
      "mean return : 1.01657109529\n",
      "392\n",
      "mean return : 1.13815797363\n",
      "393\n",
      "mean return : 1.11290397827\n",
      "394\n",
      "mean return : 1.17308594509\n",
      "395\n",
      "mean return : 1.17103666321\n",
      "396\n",
      "mean return : 1.18252551483\n",
      "397\n",
      "mean return : 1.06643465681\n",
      "398\n",
      "mean return : 1.26108659985\n",
      "399\n",
      "mean return : 1.17923626585\n",
      "400\n",
      "mean return : 1.12463938631\n",
      "401\n",
      "mean return : 1.18884181287\n",
      "402\n",
      "mean return : 1.12392007176\n",
      "403\n",
      "mean return : 1.19169651196\n",
      "404\n",
      "mean return : 1.19158962969\n",
      "405\n",
      "mean return : 1.10921132567\n",
      "406\n",
      "mean return : 1.14217582571\n",
      "407\n",
      "mean return : 1.16929671718\n",
      "408\n",
      "mean return : 1.16914782548\n",
      "409\n",
      "mean return : 1.14708562407\n",
      "410\n",
      "mean return : 1.13789106696\n",
      "411\n",
      "mean return : 0.973898277723\n",
      "412\n",
      "mean return : 1.22761373039\n",
      "413\n",
      "mean return : 1.23918294876\n",
      "414\n",
      "mean return : 1.16101123274\n",
      "415\n",
      "mean return : 1.18661567829\n",
      "416\n",
      "mean return : 1.13449933668\n",
      "417\n",
      "mean return : 1.08803638458\n",
      "418\n",
      "mean return : 1.12781964018\n",
      "419\n",
      "mean return : 1.11159946785\n",
      "420\n",
      "mean return : 1.13258009803\n",
      "421\n",
      "mean return : 1.02561644999\n",
      "422\n",
      "mean return : 1.1629308619\n",
      "423\n",
      "mean return : 1.23896852006\n",
      "424\n",
      "mean return : 1.18757756063\n",
      "425\n",
      "mean return : 1.0571986883\n",
      "426\n",
      "mean return : 0.995739510134\n",
      "427\n",
      "mean return : 1.09745618422\n",
      "428\n",
      "mean return : 1.0764654472\n",
      "429\n",
      "mean return : 1.10226487954\n",
      "430\n",
      "mean return : 1.01855475858\n",
      "431\n",
      "mean return : 1.11790696414\n",
      "432\n",
      "mean return : 1.24670416126\n",
      "433\n",
      "mean return : 1.16355590116\n",
      "434\n",
      "mean return : 1.11962048248\n",
      "435\n",
      "mean return : 1.24825234205\n",
      "436\n",
      "mean return : 1.21452609367\n",
      "437\n",
      "mean return : 1.11209933764\n",
      "438\n",
      "mean return : 1.10943231749\n",
      "439\n",
      "mean return : 1.13421335875\n",
      "440\n",
      "mean return : 1.12610291399\n",
      "441\n",
      "mean return : 1.15865599367\n",
      "442\n",
      "mean return : 1.17920295407\n",
      "443\n",
      "mean return : 1.07249190886\n",
      "444\n",
      "mean return : 1.21210924585\n",
      "445\n",
      "mean return : 1.03583541014\n",
      "446\n",
      "mean return : 1.1609436551\n",
      "447\n",
      "mean return : 1.13526067134\n",
      "448\n",
      "mean return : 1.15131185648\n",
      "449\n",
      "mean return : 1.1120695524\n",
      "450\n",
      "mean return : 1.21693542911\n",
      "451\n",
      "mean return : 1.11362227128\n",
      "452\n",
      "mean return : 1.09035589729\n",
      "453\n",
      "mean return : 1.06272079395\n",
      "454\n",
      "mean return : 1.12137675673\n",
      "455\n",
      "mean return : 1.23308650195\n",
      "456\n",
      "mean return : 1.12274659216\n",
      "457\n",
      "mean return : 1.14179294858\n",
      "458\n",
      "mean return : 1.17088589296\n",
      "459\n",
      "mean return : 1.00741728549\n",
      "460\n",
      "mean return : 1.1894458842\n",
      "461\n",
      "mean return : 1.24457297308\n",
      "462\n",
      "mean return : 1.23142905535\n",
      "463\n",
      "mean return : 1.19970747387\n",
      "464\n",
      "mean return : 1.21492889154\n",
      "465\n",
      "mean return : 1.10240910789\n",
      "466\n",
      "mean return : 1.09749200344\n",
      "467\n",
      "mean return : 1.06945109409\n",
      "468\n",
      "mean return : 1.16560055797\n",
      "469\n",
      "mean return : 1.14082809635\n",
      "470\n",
      "mean return : 1.19406270543\n",
      "471\n",
      "mean return : 1.15940437273\n",
      "472\n",
      "mean return : 1.16542467541\n",
      "473\n",
      "mean return : 1.15398757963\n",
      "474\n",
      "mean return : 1.18771001239\n",
      "475\n",
      "mean return : 1.08574924255\n",
      "476\n",
      "mean return : 0.968584051256\n",
      "477\n",
      "mean return : 1.11806688943\n",
      "478\n",
      "mean return : 1.1149301069\n",
      "479\n",
      "mean return : 1.21695836525\n",
      "480\n",
      "mean return : 1.29877957273\n",
      "481\n",
      "mean return : 1.14992016129\n",
      "482\n",
      "mean return : 1.14411262731\n",
      "483\n",
      "mean return : 1.12915529206\n",
      "484\n",
      "mean return : 1.04348885501\n",
      "485\n",
      "mean return : 1.1363194937\n",
      "486\n",
      "mean return : 1.20518216455\n",
      "487\n",
      "mean return : 1.11808528923\n",
      "488\n",
      "mean return : 1.10038779845\n",
      "489\n",
      "mean return : 1.20286623445\n",
      "490\n",
      "mean return : 1.09507005333\n",
      "491\n",
      "mean return : 1.16841141052\n",
      "492\n",
      "mean return : 1.30328664158\n",
      "493\n",
      "mean return : 1.2365525978\n",
      "494\n",
      "mean return : 1.11539147081\n",
      "495\n",
      "mean return : 1.17662731846\n",
      "496\n",
      "mean return : 1.05446504155\n",
      "497\n",
      "mean return : 1.14532569133\n",
      "498\n",
      "mean return : 1.21597819994\n",
      "499\n",
      "mean return : 1.05880535397\n",
      "make distributions from loan grades\n",
      "0\n",
      "1\n",
      "2\n",
      "3\n"
     ]
    },
    {
     "data": {
      "image/png": "[encoded data removed]",
      "text/plain": [
       "<matplotlib.figure.Figure at 0x11aaae290>"
      ]
     },
     "metadata": {},
     "output_type": "display_data"
    }
   ],
   "source": [
    "ld.main()"
   ]
  },
  {
   "cell_type": "code",
   "execution_count": 74,
   "metadata": {
    "collapsed": false
   },
   "outputs": [
    {
     "ename": "AttributeError",
     "evalue": "'module' object has no attribute 'x'",
     "output_type": "error",
     "traceback": [
      "\u001b[0;31m---------------------------------------------------------------------------\u001b[0m",
      "\u001b[0;31mAttributeError\u001b[0m                            Traceback (most recent call last)",
      "\u001b[0;32m<ipython-input-74-c6e8ad2ee68e>\u001b[0m in \u001b[0;36m<module>\u001b[0;34m()\u001b[0m\n\u001b[0;32m----> 1\u001b[0;31m \u001b[0;34m(\u001b[0m\u001b[0mx\u001b[0m\u001b[0;34m,\u001b[0m \u001b[0mpdf_list\u001b[0m\u001b[0;34m)\u001b[0m \u001b[0;34m=\u001b[0m \u001b[0mld\u001b[0m\u001b[0;34m.\u001b[0m\u001b[0mx\u001b[0m\u001b[0;34m,\u001b[0m \u001b[0mld\u001b[0m\u001b[0;34m.\u001b[0m\u001b[0mpdf_list\u001b[0m\u001b[0;34m\u001b[0m\u001b[0m\n\u001b[0m",
      "\u001b[0;31mAttributeError\u001b[0m: 'module' object has no attribute 'x'"
     ]
    }
   ],
   "source": [
    "(x, pdf_list) = ld.x, ld.pdf_list"
   ]
  },
  {
   "cell_type": "code",
   "execution_count": 7,
   "metadata": {
    "collapsed": true
   },
   "outputs": [],
   "source": [
    "df = ld.load_data()\n",
    "df_grade = ld.make_data_grade(df)"
   ]
  },
  {
   "cell_type": "code",
   "execution_count": 10,
   "metadata": {
    "collapsed": false
   },
   "outputs": [
    {
     "data": {
      "text/html": [
       "<div>\n",
       "<table border=\"1\" class=\"dataframe\">\n",
       "  <thead>\n",
       "    <tr style=\"text-align: right;\">\n",
       "      <th></th>\n",
       "      <th>sub_grade</th>\n",
       "      <th>int_rate</th>\n",
       "      <th>loan_status</th>\n",
       "      <th>loan_amnt</th>\n",
       "      <th>total_pymnt</th>\n",
       "      <th>return</th>\n",
       "    </tr>\n",
       "  </thead>\n",
       "  <tbody>\n",
       "    <tr>\n",
       "      <th>4</th>\n",
       "      <td>0.735294</td>\n",
       "      <td>13.53</td>\n",
       "      <td>1.0</td>\n",
       "      <td>20800.0</td>\n",
       "      <td>23926.640008</td>\n",
       "      <td>1.150319</td>\n",
       "    </tr>\n",
       "    <tr>\n",
       "      <th>6</th>\n",
       "      <td>0.764706</td>\n",
       "      <td>12.85</td>\n",
       "      <td>1.0</td>\n",
       "      <td>3000.0</td>\n",
       "      <td>3181.548905</td>\n",
       "      <td>1.060516</td>\n",
       "    </tr>\n",
       "    <tr>\n",
       "      <th>7</th>\n",
       "      <td>0.735294</td>\n",
       "      <td>13.53</td>\n",
       "      <td>1.0</td>\n",
       "      <td>12000.0</td>\n",
       "      <td>13359.776858</td>\n",
       "      <td>1.113315</td>\n",
       "    </tr>\n",
       "    <tr>\n",
       "      <th>10</th>\n",
       "      <td>0.941176</td>\n",
       "      <td>7.62</td>\n",
       "      <td>1.0</td>\n",
       "      <td>12000.0</td>\n",
       "      <td>13397.539998</td>\n",
       "      <td>1.116462</td>\n",
       "    </tr>\n",
       "    <tr>\n",
       "      <th>12</th>\n",
       "      <td>0.941176</td>\n",
       "      <td>7.62</td>\n",
       "      <td>1.0</td>\n",
       "      <td>28000.0</td>\n",
       "      <td>29150.980000</td>\n",
       "      <td>1.041106</td>\n",
       "    </tr>\n",
       "    <tr>\n",
       "      <th>13</th>\n",
       "      <td>0.647059</td>\n",
       "      <td>14.98</td>\n",
       "      <td>1.0</td>\n",
       "      <td>11100.0</td>\n",
       "      <td>13575.640006</td>\n",
       "      <td>1.223031</td>\n",
       "    </tr>\n",
       "    <tr>\n",
       "      <th>14</th>\n",
       "      <td>0.823529</td>\n",
       "      <td>10.99</td>\n",
       "      <td>0.0</td>\n",
       "      <td>8000.0</td>\n",
       "      <td>5621.810000</td>\n",
       "      <td>0.702726</td>\n",
       "    </tr>\n",
       "    <tr>\n",
       "      <th>15</th>\n",
       "      <td>0.735294</td>\n",
       "      <td>13.53</td>\n",
       "      <td>1.0</td>\n",
       "      <td>24000.0</td>\n",
       "      <td>28652.210000</td>\n",
       "      <td>1.193842</td>\n",
       "    </tr>\n",
       "    <tr>\n",
       "      <th>16</th>\n",
       "      <td>0.676471</td>\n",
       "      <td>14.47</td>\n",
       "      <td>1.0</td>\n",
       "      <td>15000.0</td>\n",
       "      <td>15699.051821</td>\n",
       "      <td>1.046603</td>\n",
       "    </tr>\n",
       "    <tr>\n",
       "      <th>17</th>\n",
       "      <td>0.823529</td>\n",
       "      <td>10.99</td>\n",
       "      <td>1.0</td>\n",
       "      <td>12000.0</td>\n",
       "      <td>13988.609996</td>\n",
       "      <td>1.165717</td>\n",
       "    </tr>\n",
       "    <tr>\n",
       "      <th>18</th>\n",
       "      <td>0.823529</td>\n",
       "      <td>10.99</td>\n",
       "      <td>1.0</td>\n",
       "      <td>4800.0</td>\n",
       "      <td>5157.519457</td>\n",
       "      <td>1.074483</td>\n",
       "    </tr>\n",
       "    <tr>\n",
       "      <th>19</th>\n",
       "      <td>0.852941</td>\n",
       "      <td>9.67</td>\n",
       "      <td>1.0</td>\n",
       "      <td>6000.0</td>\n",
       "      <td>6048.350000</td>\n",
       "      <td>1.008058</td>\n",
       "    </tr>\n",
       "    <tr>\n",
       "      <th>20</th>\n",
       "      <td>0.588235</td>\n",
       "      <td>16.24</td>\n",
       "      <td>1.0</td>\n",
       "      <td>4000.0</td>\n",
       "      <td>4054.251408</td>\n",
       "      <td>1.013563</td>\n",
       "    </tr>\n",
       "    <tr>\n",
       "      <th>21</th>\n",
       "      <td>0.705882</td>\n",
       "      <td>13.98</td>\n",
       "      <td>1.0</td>\n",
       "      <td>22875.0</td>\n",
       "      <td>24611.959899</td>\n",
       "      <td>1.075933</td>\n",
       "    </tr>\n",
       "    <tr>\n",
       "      <th>22</th>\n",
       "      <td>0.411765</td>\n",
       "      <td>20.50</td>\n",
       "      <td>1.0</td>\n",
       "      <td>10075.0</td>\n",
       "      <td>10247.518298</td>\n",
       "      <td>1.017123</td>\n",
       "    </tr>\n",
       "    <tr>\n",
       "      <th>25</th>\n",
       "      <td>0.794118</td>\n",
       "      <td>11.99</td>\n",
       "      <td>1.0</td>\n",
       "      <td>10000.0</td>\n",
       "      <td>11719.930000</td>\n",
       "      <td>1.171993</td>\n",
       "    </tr>\n",
       "    <tr>\n",
       "      <th>26</th>\n",
       "      <td>0.823529</td>\n",
       "      <td>10.99</td>\n",
       "      <td>1.0</td>\n",
       "      <td>7200.0</td>\n",
       "      <td>8074.679998</td>\n",
       "      <td>1.121483</td>\n",
       "    </tr>\n",
       "    <tr>\n",
       "      <th>27</th>\n",
       "      <td>0.705882</td>\n",
       "      <td>13.98</td>\n",
       "      <td>1.0</td>\n",
       "      <td>20000.0</td>\n",
       "      <td>23492.160000</td>\n",
       "      <td>1.174608</td>\n",
       "    </tr>\n",
       "    <tr>\n",
       "      <th>28</th>\n",
       "      <td>0.705882</td>\n",
       "      <td>13.98</td>\n",
       "      <td>0.0</td>\n",
       "      <td>18450.0</td>\n",
       "      <td>17020.300000</td>\n",
       "      <td>0.922509</td>\n",
       "    </tr>\n",
       "    <tr>\n",
       "      <th>29</th>\n",
       "      <td>0.852941</td>\n",
       "      <td>9.67</td>\n",
       "      <td>1.0</td>\n",
       "      <td>10000.0</td>\n",
       "      <td>10383.380000</td>\n",
       "      <td>1.038338</td>\n",
       "    </tr>\n",
       "    <tr>\n",
       "      <th>34</th>\n",
       "      <td>0.500000</td>\n",
       "      <td>18.25</td>\n",
       "      <td>0.0</td>\n",
       "      <td>14825.0</td>\n",
       "      <td>12416.900000</td>\n",
       "      <td>0.837565</td>\n",
       "    </tr>\n",
       "    <tr>\n",
       "      <th>35</th>\n",
       "      <td>0.941176</td>\n",
       "      <td>7.62</td>\n",
       "      <td>1.0</td>\n",
       "      <td>16000.0</td>\n",
       "      <td>16900.617682</td>\n",
       "      <td>1.056289</td>\n",
       "    </tr>\n",
       "    <tr>\n",
       "      <th>36</th>\n",
       "      <td>1.000000</td>\n",
       "      <td>6.03</td>\n",
       "      <td>1.0</td>\n",
       "      <td>6000.0</td>\n",
       "      <td>6222.566439</td>\n",
       "      <td>1.037094</td>\n",
       "    </tr>\n",
       "    <tr>\n",
       "      <th>37</th>\n",
       "      <td>0.823529</td>\n",
       "      <td>10.99</td>\n",
       "      <td>1.0</td>\n",
       "      <td>6000.0</td>\n",
       "      <td>6630.880001</td>\n",
       "      <td>1.105147</td>\n",
       "    </tr>\n",
       "    <tr>\n",
       "      <th>38</th>\n",
       "      <td>0.911765</td>\n",
       "      <td>7.90</td>\n",
       "      <td>1.0</td>\n",
       "      <td>16000.0</td>\n",
       "      <td>17711.550000</td>\n",
       "      <td>1.106972</td>\n",
       "    </tr>\n",
       "    <tr>\n",
       "      <th>43</th>\n",
       "      <td>0.735294</td>\n",
       "      <td>13.53</td>\n",
       "      <td>1.0</td>\n",
       "      <td>14575.0</td>\n",
       "      <td>14739.340000</td>\n",
       "      <td>1.011275</td>\n",
       "    </tr>\n",
       "    <tr>\n",
       "      <th>44</th>\n",
       "      <td>0.705882</td>\n",
       "      <td>13.98</td>\n",
       "      <td>1.0</td>\n",
       "      <td>8000.0</td>\n",
       "      <td>9257.160000</td>\n",
       "      <td>1.157145</td>\n",
       "    </tr>\n",
       "    <tr>\n",
       "      <th>45</th>\n",
       "      <td>0.852941</td>\n",
       "      <td>9.67</td>\n",
       "      <td>1.0</td>\n",
       "      <td>4500.0</td>\n",
       "      <td>4606.170000</td>\n",
       "      <td>1.023593</td>\n",
       "    </tr>\n",
       "    <tr>\n",
       "      <th>46</th>\n",
       "      <td>0.323529</td>\n",
       "      <td>22.90</td>\n",
       "      <td>1.0</td>\n",
       "      <td>5500.0</td>\n",
       "      <td>6833.649999</td>\n",
       "      <td>1.242482</td>\n",
       "    </tr>\n",
       "    <tr>\n",
       "      <th>49</th>\n",
       "      <td>0.941176</td>\n",
       "      <td>7.62</td>\n",
       "      <td>1.0</td>\n",
       "      <td>5000.0</td>\n",
       "      <td>5527.870000</td>\n",
       "      <td>1.105574</td>\n",
       "    </tr>\n",
       "    <tr>\n",
       "      <th>...</th>\n",
       "      <td>...</td>\n",
       "      <td>...</td>\n",
       "      <td>...</td>\n",
       "      <td>...</td>\n",
       "      <td>...</td>\n",
       "      <td>...</td>\n",
       "    </tr>\n",
       "    <tr>\n",
       "      <th>685326</th>\n",
       "      <td>0.764706</td>\n",
       "      <td>10.78</td>\n",
       "      <td>1.0</td>\n",
       "      <td>10500.0</td>\n",
       "      <td>10951.530000</td>\n",
       "      <td>1.043003</td>\n",
       "    </tr>\n",
       "    <tr>\n",
       "      <th>685330</th>\n",
       "      <td>0.941176</td>\n",
       "      <td>6.99</td>\n",
       "      <td>1.0</td>\n",
       "      <td>25000.0</td>\n",
       "      <td>25005.590000</td>\n",
       "      <td>1.000224</td>\n",
       "    </tr>\n",
       "    <tr>\n",
       "      <th>685333</th>\n",
       "      <td>0.735294</td>\n",
       "      <td>11.48</td>\n",
       "      <td>0.0</td>\n",
       "      <td>20000.0</td>\n",
       "      <td>1306.570000</td>\n",
       "      <td>0.065328</td>\n",
       "    </tr>\n",
       "    <tr>\n",
       "      <th>685345</th>\n",
       "      <td>0.735294</td>\n",
       "      <td>11.48</td>\n",
       "      <td>1.0</td>\n",
       "      <td>35000.0</td>\n",
       "      <td>36542.440000</td>\n",
       "      <td>1.044070</td>\n",
       "    </tr>\n",
       "    <tr>\n",
       "      <th>685358</th>\n",
       "      <td>0.617647</td>\n",
       "      <td>13.99</td>\n",
       "      <td>1.0</td>\n",
       "      <td>16000.0</td>\n",
       "      <td>16582.130000</td>\n",
       "      <td>1.036383</td>\n",
       "    </tr>\n",
       "    <tr>\n",
       "      <th>685370</th>\n",
       "      <td>0.794118</td>\n",
       "      <td>9.80</td>\n",
       "      <td>0.0</td>\n",
       "      <td>4500.0</td>\n",
       "      <td>461.920000</td>\n",
       "      <td>0.102649</td>\n",
       "    </tr>\n",
       "    <tr>\n",
       "      <th>685396</th>\n",
       "      <td>0.970588</td>\n",
       "      <td>6.24</td>\n",
       "      <td>1.0</td>\n",
       "      <td>16000.0</td>\n",
       "      <td>16200.870000</td>\n",
       "      <td>1.012554</td>\n",
       "    </tr>\n",
       "    <tr>\n",
       "      <th>685415</th>\n",
       "      <td>0.558824</td>\n",
       "      <td>15.41</td>\n",
       "      <td>1.0</td>\n",
       "      <td>8400.0</td>\n",
       "      <td>8947.060000</td>\n",
       "      <td>1.065126</td>\n",
       "    </tr>\n",
       "    <tr>\n",
       "      <th>685420</th>\n",
       "      <td>0.852941</td>\n",
       "      <td>8.38</td>\n",
       "      <td>1.0</td>\n",
       "      <td>30000.0</td>\n",
       "      <td>30868.550000</td>\n",
       "      <td>1.028952</td>\n",
       "    </tr>\n",
       "    <tr>\n",
       "      <th>685421</th>\n",
       "      <td>0.647059</td>\n",
       "      <td>13.18</td>\n",
       "      <td>0.0</td>\n",
       "      <td>12000.0</td>\n",
       "      <td>462.480000</td>\n",
       "      <td>0.038540</td>\n",
       "    </tr>\n",
       "    <tr>\n",
       "      <th>685461</th>\n",
       "      <td>0.794118</td>\n",
       "      <td>9.76</td>\n",
       "      <td>0.0</td>\n",
       "      <td>12000.0</td>\n",
       "      <td>0.000000</td>\n",
       "      <td>0.000000</td>\n",
       "    </tr>\n",
       "    <tr>\n",
       "      <th>685464</th>\n",
       "      <td>0.794118</td>\n",
       "      <td>9.76</td>\n",
       "      <td>1.0</td>\n",
       "      <td>16800.0</td>\n",
       "      <td>16805.170000</td>\n",
       "      <td>1.000308</td>\n",
       "    </tr>\n",
       "    <tr>\n",
       "      <th>685475</th>\n",
       "      <td>0.705882</td>\n",
       "      <td>11.99</td>\n",
       "      <td>0.0</td>\n",
       "      <td>24000.0</td>\n",
       "      <td>3156.150000</td>\n",
       "      <td>0.131506</td>\n",
       "    </tr>\n",
       "    <tr>\n",
       "      <th>685477</th>\n",
       "      <td>0.941176</td>\n",
       "      <td>6.89</td>\n",
       "      <td>0.0</td>\n",
       "      <td>5000.0</td>\n",
       "      <td>614.650000</td>\n",
       "      <td>0.122930</td>\n",
       "    </tr>\n",
       "    <tr>\n",
       "      <th>685484</th>\n",
       "      <td>0.852941</td>\n",
       "      <td>8.38</td>\n",
       "      <td>0.0</td>\n",
       "      <td>3000.0</td>\n",
       "      <td>202.680000</td>\n",
       "      <td>0.067560</td>\n",
       "    </tr>\n",
       "    <tr>\n",
       "      <th>685490</th>\n",
       "      <td>0.705882</td>\n",
       "      <td>11.99</td>\n",
       "      <td>1.0</td>\n",
       "      <td>2100.0</td>\n",
       "      <td>2165.290000</td>\n",
       "      <td>1.031090</td>\n",
       "    </tr>\n",
       "    <tr>\n",
       "      <th>685501</th>\n",
       "      <td>0.676471</td>\n",
       "      <td>12.59</td>\n",
       "      <td>0.0</td>\n",
       "      <td>20000.0</td>\n",
       "      <td>2665.770000</td>\n",
       "      <td>0.133289</td>\n",
       "    </tr>\n",
       "    <tr>\n",
       "      <th>685507</th>\n",
       "      <td>0.588235</td>\n",
       "      <td>14.48</td>\n",
       "      <td>1.0</td>\n",
       "      <td>9000.0</td>\n",
       "      <td>9364.750002</td>\n",
       "      <td>1.040528</td>\n",
       "    </tr>\n",
       "    <tr>\n",
       "      <th>685512</th>\n",
       "      <td>0.705882</td>\n",
       "      <td>11.99</td>\n",
       "      <td>1.0</td>\n",
       "      <td>15000.0</td>\n",
       "      <td>15011.500000</td>\n",
       "      <td>1.000767</td>\n",
       "    </tr>\n",
       "    <tr>\n",
       "      <th>685532</th>\n",
       "      <td>0.705882</td>\n",
       "      <td>11.99</td>\n",
       "      <td>1.0</td>\n",
       "      <td>9600.0</td>\n",
       "      <td>9686.340000</td>\n",
       "      <td>1.008994</td>\n",
       "    </tr>\n",
       "    <tr>\n",
       "      <th>685544</th>\n",
       "      <td>0.294118</td>\n",
       "      <td>20.99</td>\n",
       "      <td>1.0</td>\n",
       "      <td>35000.0</td>\n",
       "      <td>35931.320000</td>\n",
       "      <td>1.026609</td>\n",
       "    </tr>\n",
       "    <tr>\n",
       "      <th>685561</th>\n",
       "      <td>0.470588</td>\n",
       "      <td>17.57</td>\n",
       "      <td>0.0</td>\n",
       "      <td>1000.0</td>\n",
       "      <td>106.840000</td>\n",
       "      <td>0.106840</td>\n",
       "    </tr>\n",
       "    <tr>\n",
       "      <th>685591</th>\n",
       "      <td>0.764706</td>\n",
       "      <td>10.64</td>\n",
       "      <td>0.0</td>\n",
       "      <td>20000.0</td>\n",
       "      <td>2593.660000</td>\n",
       "      <td>0.129683</td>\n",
       "    </tr>\n",
       "    <tr>\n",
       "      <th>685640</th>\n",
       "      <td>0.764706</td>\n",
       "      <td>10.64</td>\n",
       "      <td>1.0</td>\n",
       "      <td>24000.0</td>\n",
       "      <td>24883.530013</td>\n",
       "      <td>1.036814</td>\n",
       "    </tr>\n",
       "    <tr>\n",
       "      <th>685650</th>\n",
       "      <td>0.852941</td>\n",
       "      <td>8.38</td>\n",
       "      <td>0.0</td>\n",
       "      <td>16000.0</td>\n",
       "      <td>2009.350000</td>\n",
       "      <td>0.125584</td>\n",
       "    </tr>\n",
       "    <tr>\n",
       "      <th>685651</th>\n",
       "      <td>0.323529</td>\n",
       "      <td>19.99</td>\n",
       "      <td>0.0</td>\n",
       "      <td>12950.0</td>\n",
       "      <td>933.660000</td>\n",
       "      <td>0.072097</td>\n",
       "    </tr>\n",
       "    <tr>\n",
       "      <th>685656</th>\n",
       "      <td>0.794118</td>\n",
       "      <td>9.76</td>\n",
       "      <td>1.0</td>\n",
       "      <td>24000.0</td>\n",
       "      <td>24912.710017</td>\n",
       "      <td>1.038030</td>\n",
       "    </tr>\n",
       "    <tr>\n",
       "      <th>685666</th>\n",
       "      <td>0.676471</td>\n",
       "      <td>12.59</td>\n",
       "      <td>1.0</td>\n",
       "      <td>24000.0</td>\n",
       "      <td>25166.000007</td>\n",
       "      <td>1.048583</td>\n",
       "    </tr>\n",
       "    <tr>\n",
       "      <th>685678</th>\n",
       "      <td>0.764706</td>\n",
       "      <td>10.64</td>\n",
       "      <td>1.0</td>\n",
       "      <td>8000.0</td>\n",
       "      <td>8300.920000</td>\n",
       "      <td>1.037615</td>\n",
       "    </tr>\n",
       "    <tr>\n",
       "      <th>685705</th>\n",
       "      <td>0.117647</td>\n",
       "      <td>26.77</td>\n",
       "      <td>0.0</td>\n",
       "      <td>6000.0</td>\n",
       "      <td>723.520000</td>\n",
       "      <td>0.120587</td>\n",
       "    </tr>\n",
       "  </tbody>\n",
       "</table>\n",
       "<p>246161 rows × 6 columns</p>\n",
       "</div>"
      ],
      "text/plain": [
       "        sub_grade  int_rate  loan_status  loan_amnt   total_pymnt    return\n",
       "4        0.735294     13.53          1.0    20800.0  23926.640008  1.150319\n",
       "6        0.764706     12.85          1.0     3000.0   3181.548905  1.060516\n",
       "7        0.735294     13.53          1.0    12000.0  13359.776858  1.113315\n",
       "10       0.941176      7.62          1.0    12000.0  13397.539998  1.116462\n",
       "12       0.941176      7.62          1.0    28000.0  29150.980000  1.041106\n",
       "13       0.647059     14.98          1.0    11100.0  13575.640006  1.223031\n",
       "14       0.823529     10.99          0.0     8000.0   5621.810000  0.702726\n",
       "15       0.735294     13.53          1.0    24000.0  28652.210000  1.193842\n",
       "16       0.676471     14.47          1.0    15000.0  15699.051821  1.046603\n",
       "17       0.823529     10.99          1.0    12000.0  13988.609996  1.165717\n",
       "18       0.823529     10.99          1.0     4800.0   5157.519457  1.074483\n",
       "19       0.852941      9.67          1.0     6000.0   6048.350000  1.008058\n",
       "20       0.588235     16.24          1.0     4000.0   4054.251408  1.013563\n",
       "21       0.705882     13.98          1.0    22875.0  24611.959899  1.075933\n",
       "22       0.411765     20.50          1.0    10075.0  10247.518298  1.017123\n",
       "25       0.794118     11.99          1.0    10000.0  11719.930000  1.171993\n",
       "26       0.823529     10.99          1.0     7200.0   8074.679998  1.121483\n",
       "27       0.705882     13.98          1.0    20000.0  23492.160000  1.174608\n",
       "28       0.705882     13.98          0.0    18450.0  17020.300000  0.922509\n",
       "29       0.852941      9.67          1.0    10000.0  10383.380000  1.038338\n",
       "34       0.500000     18.25          0.0    14825.0  12416.900000  0.837565\n",
       "35       0.941176      7.62          1.0    16000.0  16900.617682  1.056289\n",
       "36       1.000000      6.03          1.0     6000.0   6222.566439  1.037094\n",
       "37       0.823529     10.99          1.0     6000.0   6630.880001  1.105147\n",
       "38       0.911765      7.90          1.0    16000.0  17711.550000  1.106972\n",
       "43       0.735294     13.53          1.0    14575.0  14739.340000  1.011275\n",
       "44       0.705882     13.98          1.0     8000.0   9257.160000  1.157145\n",
       "45       0.852941      9.67          1.0     4500.0   4606.170000  1.023593\n",
       "46       0.323529     22.90          1.0     5500.0   6833.649999  1.242482\n",
       "49       0.941176      7.62          1.0     5000.0   5527.870000  1.105574\n",
       "...           ...       ...          ...        ...           ...       ...\n",
       "685326   0.764706     10.78          1.0    10500.0  10951.530000  1.043003\n",
       "685330   0.941176      6.99          1.0    25000.0  25005.590000  1.000224\n",
       "685333   0.735294     11.48          0.0    20000.0   1306.570000  0.065328\n",
       "685345   0.735294     11.48          1.0    35000.0  36542.440000  1.044070\n",
       "685358   0.617647     13.99          1.0    16000.0  16582.130000  1.036383\n",
       "685370   0.794118      9.80          0.0     4500.0    461.920000  0.102649\n",
       "685396   0.970588      6.24          1.0    16000.0  16200.870000  1.012554\n",
       "685415   0.558824     15.41          1.0     8400.0   8947.060000  1.065126\n",
       "685420   0.852941      8.38          1.0    30000.0  30868.550000  1.028952\n",
       "685421   0.647059     13.18          0.0    12000.0    462.480000  0.038540\n",
       "685461   0.794118      9.76          0.0    12000.0      0.000000  0.000000\n",
       "685464   0.794118      9.76          1.0    16800.0  16805.170000  1.000308\n",
       "685475   0.705882     11.99          0.0    24000.0   3156.150000  0.131506\n",
       "685477   0.941176      6.89          0.0     5000.0    614.650000  0.122930\n",
       "685484   0.852941      8.38          0.0     3000.0    202.680000  0.067560\n",
       "685490   0.705882     11.99          1.0     2100.0   2165.290000  1.031090\n",
       "685501   0.676471     12.59          0.0    20000.0   2665.770000  0.133289\n",
       "685507   0.588235     14.48          1.0     9000.0   9364.750002  1.040528\n",
       "685512   0.705882     11.99          1.0    15000.0  15011.500000  1.000767\n",
       "685532   0.705882     11.99          1.0     9600.0   9686.340000  1.008994\n",
       "685544   0.294118     20.99          1.0    35000.0  35931.320000  1.026609\n",
       "685561   0.470588     17.57          0.0     1000.0    106.840000  0.106840\n",
       "685591   0.764706     10.64          0.0    20000.0   2593.660000  0.129683\n",
       "685640   0.764706     10.64          1.0    24000.0  24883.530013  1.036814\n",
       "685650   0.852941      8.38          0.0    16000.0   2009.350000  0.125584\n",
       "685651   0.323529     19.99          0.0    12950.0    933.660000  0.072097\n",
       "685656   0.794118      9.76          1.0    24000.0  24912.710017  1.038030\n",
       "685666   0.676471     12.59          1.0    24000.0  25166.000007  1.048583\n",
       "685678   0.764706     10.64          1.0     8000.0   8300.920000  1.037615\n",
       "685705   0.117647     26.77          0.0     6000.0    723.520000  0.120587\n",
       "\n",
       "[246161 rows x 6 columns]"
      ]
     },
     "execution_count": 10,
     "metadata": {},
     "output_type": "execute_result"
    }
   ],
   "source": [
    "df_grade"
   ]
  },
  {
   "cell_type": "code",
   "execution_count": 11,
   "metadata": {
    "collapsed": true
   },
   "outputs": [],
   "source": [
    "(\n",
    "X_train,\n",
    "X_val,\n",
    "y_train,\n",
    "y_val,\n",
    "df_train,\n",
    "df_val,\n",
    ") = ld.make_data_clf(df)\n"
   ]
  },
  {
   "cell_type": "code",
   "execution_count": 14,
   "metadata": {
    "collapsed": false
   },
   "outputs": [
    {
     "data": {
      "text/plain": [
       "(12058, 50)"
      ]
     },
     "execution_count": 14,
     "metadata": {},
     "output_type": "execute_result"
    }
   ],
   "source": [
    "X_val.shape"
   ]
  },
  {
   "cell_type": "code",
   "execution_count": 26,
   "metadata": {
    "collapsed": false
   },
   "outputs": [
    {
     "name": "stdout",
     "output_type": "stream",
     "text": [
      "make distributions from loan grades\n",
      "0\n",
      "1\n",
      "2\n",
      "3\n"
     ]
    }
   ],
   "source": [
    "a = ld.make_grade_dist(df_grade,\n",
    "            num_loans=20)"
   ]
  },
  {
   "cell_type": "code",
   "execution_count": 27,
   "metadata": {
    "collapsed": false
   },
   "outputs": [
    {
     "data": {
      "text/plain": [
       "1.036143467566716"
      ]
     },
     "execution_count": 27,
     "metadata": {},
     "output_type": "execute_result"
    }
   ],
   "source": [
    "np.mean(a[3])"
   ]
  },
  {
   "cell_type": "code",
   "execution_count": 28,
   "metadata": {
    "collapsed": false
   },
   "outputs": [
    {
     "data": {
      "text/plain": [
       "(array([   5.,    9.,   18.,   35.,   85.,  163.,  238.,  244.,  158.,   45.]),\n",
       " array([ 0.83855262,  0.86840901,  0.89826539,  0.92812178,  0.95797816,\n",
       "         0.98783455,  1.01769094,  1.04754732,  1.07740371,  1.10726009,\n",
       "         1.13711648]),\n",
       " <a list of 10 Patch objects>)"
      ]
     },
     "execution_count": 28,
     "metadata": {},
     "output_type": "execute_result"
    },
    {
     "data": {
      "image/png": "[encoded data removed]",
      "text/plain": [
       "<matplotlib.figure.Figure at 0x107424f90>"
      ]
     },
     "metadata": {},
     "output_type": "display_data"
    }
   ],
   "source": [
    "hist(a[3])"
   ]
  },
  {
   "cell_type": "code",
   "execution_count": 67,
   "metadata": {
    "collapsed": false
   },
   "outputs": [
    {
     "data": {
      "image/png": "[encoded data removed]",
      "text/plain": [
       "<matplotlib.figure.Figure at 0x11b8305d0>"
      ]
     },
     "metadata": {},
     "output_type": "display_data"
    }
   ],
   "source": [
    "ld.plot_default_rate(df,df_grade)"
   ]
  },
  {
   "cell_type": "code",
   "execution_count": 305,
   "metadata": {
    "collapsed": false
   },
   "outputs": [
    {
     "name": "stdout",
     "output_type": "stream",
     "text": [
      "[0.11431683395724002]\n"
     ]
    }
   ],
   "source": [
    "# for n in arange(1,100,10):\n",
    "kappa_list = []\n",
    "# clf_cont = RandomForestClassifier(n_estimators=11)\n",
    "#logistic regression is good for even train non-even val dataset\n",
    "# clf_cont = LogisticRegression()\n",
    "clf_cont = BernoulliNB()\n",
    "# clf_cont = KNeighborsClassifier()\n",
    "# clf_cont = tree.DecisionTreeClassifier()\n",
    "clf_cont.fit(X_train, y_train)\n",
    "y_pred = clf_cont.predict(X_val)\n",
    "y_pred_prob_0  = clf_cont.predict_proba(X_val)[:,1]\n",
    "# y_test_prob_cont  = clf_cont.predict_proba(X_test_cont)\n",
    "kappa_list.append(skll.metrics.kappa(y_val, y_pred))\n",
    "print kappa_list"
   ]
  },
  {
   "cell_type": "code",
   "execution_count": 306,
   "metadata": {
    "collapsed": false
   },
   "outputs": [
    {
     "data": {
      "text/plain": [
       "(array([ 10132.,      0.,      0.,      0.,      0.,      0.,      0.,\n",
       "             0.,      0.,   9964.]),\n",
       " array([ 0. ,  0.1,  0.2,  0.3,  0.4,  0.5,  0.6,  0.7,  0.8,  0.9,  1. ]),\n",
       " <a list of 10 Patch objects>)"
      ]
     },
     "execution_count": 306,
     "metadata": {},
     "output_type": "execute_result"
    },
    {
     "data": {
      "image/png": "[encoded data removed]",
      "text/plain": [
       "<matplotlib.figure.Figure at 0x1601b7210>"
      ]
     },
     "metadata": {},
     "output_type": "display_data"
    }
   ],
   "source": [
    "hist(y_train, alpha=0.3)\n",
    "hist(y_val, alpha=0.3)\n",
    "hist(y_pred, alpha=0.3)"
   ]
  },
  {
   "cell_type": "code",
   "execution_count": 109,
   "metadata": {
    "collapsed": false
   },
   "outputs": [
    {
     "data": {
      "text/plain": [
       "0.12751501056602094"
      ]
     },
     "execution_count": 109,
     "metadata": {},
     "output_type": "execute_result"
    }
   ],
   "source": [
    "np.mean(mean_return_list_model)"
   ]
  },
  {
   "cell_type": "code",
   "execution_count": 110,
   "metadata": {
    "collapsed": false
   },
   "outputs": [
    {
     "data": {
      "text/plain": [
       "array([ 0.09645229,  0.10223772,  0.12160025,  0.20302582,  0.12953295,\n",
       "        0.1759667 ,  0.21307506,  0.16318511,  0.20626493,  0.19959843,\n",
       "        0.23199205,  0.1256944 ,  0.17377192,  0.23764981,  0.09462421,\n",
       "        0.10731427, -0.02664047,  0.12584917,  0.21205576, -0.03189045,\n",
       "        0.17601229,  0.20480582,  0.11444638,  0.09871869,  0.09734179,\n",
       "        0.12382102,  0.13236404,  0.01592587,  0.10945697,  0.13599216,\n",
       "        0.12858598,  0.0994152 ,  0.20171409,  0.13549217, -0.0436418 ,\n",
       "        0.03156392,  0.19316899, -0.08252233,  0.14950082,  0.00846848,\n",
       "        0.19084536, -0.03326172,  0.02635307,  0.23920829,  0.10893418,\n",
       "        0.09795634,  0.24503261,  0.19786244,  0.11919573,  0.21331873,\n",
       "        0.21737469,  0.11966121,  0.10639676,  0.12765082,  0.15629183,\n",
       "        0.15400933,  0.14140824,  0.12162987,  0.16313502,  0.18106943,\n",
       "        0.13087133,  0.18335545,  0.16214956,  0.22932261,  0.10538679,\n",
       "        0.06765789,  0.12043847,  0.09262158,  0.23228407,  0.09634895,\n",
       "        0.15117462,  0.0511807 ,  0.10324589,  0.0894892 ,  0.11326768,\n",
       "        0.06814701,  0.11562719,  0.10328064,  0.03539707,  0.06690588,\n",
       "        0.04489063,  0.08324733,  0.11704477,  0.07916514,  0.23590969,\n",
       "        0.11860585,  0.1174183 ,  0.23085716,  0.02376319,  0.15000485,\n",
       "        0.13042201,  0.18118603,  0.07520857,  0.19406792,  0.15529873,\n",
       "        0.15475642,  0.13814241,  0.09522527,  0.18202586,  0.14004564])"
      ]
     },
     "execution_count": 110,
     "metadata": {},
     "output_type": "execute_result"
    }
   ],
   "source": [
    "mean_return_list_model"
   ]
  },
  {
   "cell_type": "code",
   "execution_count": 111,
   "metadata": {
    "collapsed": true
   },
   "outputs": [],
   "source": [
    "## x = np.arange(-0.6,0.2, 0.0005)\n",
    "pdf_list_model = make_pdf([mean_return_list_model], x, bw=0.01)"
   ]
  },
  {
   "cell_type": "code",
   "execution_count": 112,
   "metadata": {
    "collapsed": true
   },
   "outputs": [],
   "source": [
    "pdf_list.append(pdf_list_model[0])"
   ]
  },
  {
   "cell_type": "code",
   "execution_count": null,
   "metadata": {
    "collapsed": true
   },
   "outputs": [],
   "source": [
    "pdf_list_tot = "
   ]
  },
  {
   "cell_type": "code",
   "execution_count": 117,
   "metadata": {
    "collapsed": false
   },
   "outputs": [
    {
     "data": {
      "text/plain": [
       "array([ 1.09645229,  1.10223772,  1.12160025,  1.20302582,  1.12953295,\n",
       "        1.1759667 ,  1.21307506,  1.16318511,  1.20626493,  1.19959843,\n",
       "        1.23199205,  1.1256944 ,  1.17377192,  1.23764981,  1.09462421,\n",
       "        1.10731427,  0.97335953,  1.12584917,  1.21205576,  0.96810955,\n",
       "        1.17601229,  1.20480582,  1.11444638,  1.09871869,  1.09734179,\n",
       "        1.12382102,  1.13236404,  1.01592587,  1.10945697,  1.13599216,\n",
       "        1.12858598,  1.0994152 ,  1.20171409,  1.13549217,  0.9563582 ,\n",
       "        1.03156392,  1.19316899,  0.91747767,  1.14950082,  1.00846848,\n",
       "        1.19084536,  0.96673828,  1.02635307,  1.23920829,  1.10893418,\n",
       "        1.09795634,  1.24503261,  1.19786244,  1.11919573,  1.21331873,\n",
       "        1.21737469,  1.11966121,  1.10639676,  1.12765082,  1.15629183,\n",
       "        1.15400933,  1.14140824,  1.12162987,  1.16313502,  1.18106943,\n",
       "        1.13087133,  1.18335545,  1.16214956,  1.22932261,  1.10538679,\n",
       "        1.06765789,  1.12043847,  1.09262158,  1.23228407,  1.09634895,\n",
       "        1.15117462,  1.0511807 ,  1.10324589,  1.0894892 ,  1.11326768,\n",
       "        1.06814701,  1.11562719,  1.10328064,  1.03539707,  1.06690588,\n",
       "        1.04489063,  1.08324733,  1.11704477,  1.07916514,  1.23590969,\n",
       "        1.11860585,  1.1174183 ,  1.23085716,  1.02376319,  1.15000485,\n",
       "        1.13042201,  1.18118603,  1.07520857,  1.19406792,  1.15529873,\n",
       "        1.15475642,  1.13814241,  1.09522527,  1.18202586,  1.14004564])"
      ]
     },
     "execution_count": 117,
     "metadata": {},
     "output_type": "execute_result"
    }
   ],
   "source": [
    "mean_return_list_model+1."
   ]
  },
  {
   "cell_type": "code",
   "execution_count": 118,
   "metadata": {
    "collapsed": false
   },
   "outputs": [
    {
     "data": {
      "text/plain": [
       "1.1254324540986649"
      ]
     },
     "execution_count": 118,
     "metadata": {},
     "output_type": "execute_result"
    }
   ],
   "source": [
    "(mean_return_list_model+1.).prod()**(1./len(mean_return_list_model))"
   ]
  },
  {
   "cell_type": "code",
   "execution_count": 340,
   "metadata": {
    "collapsed": false
   },
   "outputs": [
    {
     "data": {
      "text/plain": [
       "1.1266744693126776"
      ]
     },
     "execution_count": 340,
     "metadata": {},
     "output_type": "execute_result"
    }
   ],
   "source": [
    "np.mean(mean_return_list_model)"
   ]
  },
  {
   "cell_type": "code",
   "execution_count": 339,
   "metadata": {
    "collapsed": false
   },
   "outputs": [
    {
     "data": {
      "text/plain": [
       "(array([   1.,    7.,    4.,   20.,   48.,  126.,  275.,  274.,  197.,   48.]),\n",
       " array([ 0.77815895,  0.82814222,  0.8781255 ,  0.92810877,  0.97809205,\n",
       "         1.02807532,  1.07805859,  1.12804187,  1.17802514,  1.22800841,\n",
       "         1.27799169]),\n",
       " <a list of 10 Patch objects>)"
      ]
     },
     "execution_count": 339,
     "metadata": {},
     "output_type": "execute_result"
    },
    {
     "data": {
      "image/png": "[encoded data removed]",
      "text/plain": [
       "<matplotlib.figure.Figure at 0x14842c990>"
      ]
     },
     "metadata": {},
     "output_type": "display_data"
    }
   ],
   "source": [
    "hist(mean_return_list_model)"
   ]
  },
  {
   "cell_type": "code",
   "execution_count": 313,
   "metadata": {
    "collapsed": false
   },
   "outputs": [
    {
     "data": {
      "text/plain": [
       "(array([  2.,   1.,   3.,  11.,  10.,   8.,  21.,  15.,  15.,  14.]),\n",
       " array([ 0.90690904,  0.94083999,  0.97477094,  1.00870189,  1.04263284,\n",
       "         1.07656379,  1.11049474,  1.14442569,  1.17835664,  1.2122876 ,\n",
       "         1.24621855]),\n",
       " <a list of 10 Patch objects>)"
      ]
     },
     "execution_count": 313,
     "metadata": {},
     "output_type": "execute_result"
    },
    {
     "data": {
      "image/png": "[encoded data removed]",
      "text/plain": [
       "<matplotlib.figure.Figure at 0x14b937110>"
      ]
     },
     "metadata": {},
     "output_type": "display_data"
    }
   ],
   "source": [
    "hist(mean_return_list_model)"
   ]
  },
  {
   "cell_type": "code",
   "execution_count": 90,
   "metadata": {
    "collapsed": false
   },
   "outputs": [
    {
     "data": {
      "text/plain": [
       "(array([  1.,   3.,   6.,  12.,  18.,  18.,  15.,  14.,   8.,   5.]),\n",
       " array([-0.01552738,  0.00940064,  0.03432866,  0.05925669,  0.08418471,\n",
       "         0.10911274,  0.13404076,  0.15896879,  0.18389681,  0.20882483,\n",
       "         0.23375286]),\n",
       " <a list of 10 Patch objects>)"
      ]
     },
     "execution_count": 90,
     "metadata": {},
     "output_type": "execute_result"
    },
    {
     "data": {
      "image/png": "[encoded data removed]",
      "text/plain": [
       "<matplotlib.figure.Figure at 0x15c2b0150>"
      ]
     },
     "metadata": {},
     "output_type": "display_data"
    }
   ],
   "source": [
    "hist(mean_return_list_model)"
   ]
  },
  {
   "cell_type": "code",
   "execution_count": 45,
   "metadata": {
    "collapsed": false
   },
   "outputs": [
    {
     "data": {
      "text/plain": [
       "(array([ 1.,  1.,  0.,  3.,  3.,  7.,  3.,  1.,  0.,  1.]),\n",
       " array([-0.02172496,  0.00224656,  0.02621808,  0.0501896 ,  0.07416112,\n",
       "         0.09813264,  0.12210416,  0.14607568,  0.1700472 ,  0.19401872,\n",
       "         0.21799024]),\n",
       " <a list of 10 Patch objects>)"
      ]
     },
     "execution_count": 45,
     "metadata": {},
     "output_type": "execute_result"
    },
    {
     "data": {
      "image/png": "[encoded data removed]",
      "text/plain": [
       "<matplotlib.figure.Figure at 0x1615edc10>"
      ]
     },
     "metadata": {},
     "output_type": "display_data"
    }
   ],
   "source": [
    "hist(mean_return_list_model)"
   ]
  },
  {
   "cell_type": "code",
   "execution_count": 47,
   "metadata": {
    "collapsed": false
   },
   "outputs": [
    {
     "data": {
      "text/plain": [
       "(array([ 1.,  0.,  0.,  0.,  2.,  3.,  3.,  6.,  1.,  4.]),\n",
       " array([-0.18602394, -0.14528279, -0.10454164, -0.06380049, -0.02305935,\n",
       "         0.0176818 ,  0.05842295,  0.0991641 ,  0.13990525,  0.1806464 ,\n",
       "         0.22138755]),\n",
       " <a list of 10 Patch objects>)"
      ]
     },
     "execution_count": 47,
     "metadata": {},
     "output_type": "execute_result"
    },
    {
     "data": {
      "image/png": "[encoded data removed]",
      "text/plain": [
       "<matplotlib.figure.Figure at 0x15afb5310>"
      ]
     },
     "metadata": {},
     "output_type": "display_data"
    }
   ],
   "source": [
    "hist(mean_return_list_model)"
   ]
  },
  {
   "cell_type": "code",
   "execution_count": null,
   "metadata": {
    "collapsed": true
   },
   "outputs": [],
   "source": [
    "hist(mean_return_list_model)"
   ]
  },
  {
   "cell_type": "code",
   "execution_count": 1296,
   "metadata": {
    "collapsed": false
   },
   "outputs": [
    {
     "data": {
      "text/plain": [
       "(array([  7794.,      0.,      0.,      0.,      0.,      0.,      0.,\n",
       "             0.,      0.,  20980.]),\n",
       " array([ 0. ,  0.1,  0.2,  0.3,  0.4,  0.5,  0.6,  0.7,  0.8,  0.9,  1. ]),\n",
       " <a list of 10 Patch objects>)"
      ]
     },
     "execution_count": 1296,
     "metadata": {},
     "output_type": "execute_result"
    },
    {
     "data": {
      "image/png": "[encoded data removed]",
      "text/plain": [
       "<matplotlib.figure.Figure at 0x17305d950>"
      ]
     },
     "metadata": {},
     "output_type": "display_data"
    }
   ],
   "source": [
    "hist(y_val)"
   ]
  },
  {
   "cell_type": "code",
   "execution_count": 1297,
   "metadata": {
    "collapsed": false
   },
   "outputs": [
    {
     "data": {
      "text/plain": [
       "(array([ 13408.,      0.,      0.,      0.,      0.,      0.,      0.,\n",
       "             0.,      0.,  15366.]),\n",
       " array([ 0. ,  0.1,  0.2,  0.3,  0.4,  0.5,  0.6,  0.7,  0.8,  0.9,  1. ]),\n",
       " <a list of 10 Patch objects>)"
      ]
     },
     "execution_count": 1297,
     "metadata": {},
     "output_type": "execute_result"
    },
    {
     "data": {
      "image/png": "[encoded data removed]",
      "text/plain": [
       "<matplotlib.figure.Figure at 0x1680d6d50>"
      ]
     },
     "metadata": {},
     "output_type": "display_data"
    }
   ],
   "source": [
    "hist(y_pred)"
   ]
  },
  {
   "cell_type": "code",
   "execution_count": 1221,
   "metadata": {
    "collapsed": false
   },
   "outputs": [
    {
     "data": {
      "text/plain": [
       "(array([  7.,   0.,   0.,   0.,   0.,   0.,   0.,   0.,   0.,  23.]),\n",
       " array([ 0. ,  0.1,  0.2,  0.3,  0.4,  0.5,  0.6,  0.7,  0.8,  0.9,  1. ]),\n",
       " <a list of 10 Patch objects>)"
      ]
     },
     "execution_count": 1221,
     "metadata": {},
     "output_type": "execute_result"
    },
    {
     "data": {
      "image/png": "[encoded data removed]",
      "text/plain": [
       "<matplotlib.figure.Figure at 0x113f152d0>"
      ]
     },
     "metadata": {},
     "output_type": "display_data"
    }
   ],
   "source": [
    "hist(y_val[np.argsort(y_pred_prob)[::-1][:30]])"
   ]
  },
  {
   "cell_type": "code",
   "execution_count": null,
   "metadata": {
    "collapsed": true
   },
   "outputs": [],
   "source": [
    "idx_high_prob = idx_sort[:10]"
   ]
  },
  {
   "cell_type": "code",
   "execution_count": 1211,
   "metadata": {
    "collapsed": false
   },
   "outputs": [
    {
     "data": {
      "text/html": [
       "<div>\n",
       "<table border=\"1\" class=\"dataframe\">\n",
       "  <thead>\n",
       "    <tr style=\"text-align: right;\">\n",
       "      <th></th>\n",
       "      <th>total_pymnt</th>\n",
       "      <th>loan_amnt</th>\n",
       "      <th>int_rate</th>\n",
       "      <th>installment</th>\n",
       "      <th>annual_inc</th>\n",
       "      <th>loan_status</th>\n",
       "      <th>desc</th>\n",
       "      <th>dti</th>\n",
       "      <th>delinq_2yrs</th>\n",
       "      <th>inq_last_6mths</th>\n",
       "      <th>...</th>\n",
       "      <th>num_tl_op_past_12m</th>\n",
       "      <th>pct_tl_nvr_dlq</th>\n",
       "      <th>percent_bc_gt_75</th>\n",
       "      <th>pub_rec_bankruptcies</th>\n",
       "      <th>tax_liens</th>\n",
       "      <th>tot_hi_cred_lim</th>\n",
       "      <th>total_bal_ex_mort</th>\n",
       "      <th>total_bc_limit</th>\n",
       "      <th>total_il_high_credit_limit</th>\n",
       "      <th>inc_inst</th>\n",
       "    </tr>\n",
       "  </thead>\n",
       "  <tbody>\n",
       "    <tr>\n",
       "      <th>402883</th>\n",
       "      <td>17442.260000</td>\n",
       "      <td>17000.0</td>\n",
       "      <td>14.65</td>\n",
       "      <td>586.41</td>\n",
       "      <td>240000.0</td>\n",
       "      <td>1.0</td>\n",
       "      <td>3.0</td>\n",
       "      <td>6.51</td>\n",
       "      <td>1.0</td>\n",
       "      <td>0.0</td>\n",
       "      <td>...</td>\n",
       "      <td>2.0</td>\n",
       "      <td>93.3</td>\n",
       "      <td>100.0</td>\n",
       "      <td>0.0</td>\n",
       "      <td>0.0</td>\n",
       "      <td>618923.0</td>\n",
       "      <td>73663.0</td>\n",
       "      <td>6000.0</td>\n",
       "      <td>77224.0</td>\n",
       "      <td>409.269965</td>\n",
       "    </tr>\n",
       "    <tr>\n",
       "      <th>65703</th>\n",
       "      <td>1692.505862</td>\n",
       "      <td>1500.0</td>\n",
       "      <td>15.80</td>\n",
       "      <td>52.59</td>\n",
       "      <td>45000.0</td>\n",
       "      <td>1.0</td>\n",
       "      <td>3.0</td>\n",
       "      <td>12.03</td>\n",
       "      <td>0.0</td>\n",
       "      <td>0.0</td>\n",
       "      <td>...</td>\n",
       "      <td>0.0</td>\n",
       "      <td>100.0</td>\n",
       "      <td>100.0</td>\n",
       "      <td>0.0</td>\n",
       "      <td>0.0</td>\n",
       "      <td>10100.0</td>\n",
       "      <td>8962.0</td>\n",
       "      <td>6900.0</td>\n",
       "      <td>0.0</td>\n",
       "      <td>855.675984</td>\n",
       "    </tr>\n",
       "    <tr>\n",
       "      <th>287789</th>\n",
       "      <td>5475.380000</td>\n",
       "      <td>7000.0</td>\n",
       "      <td>13.65</td>\n",
       "      <td>238.06</td>\n",
       "      <td>70000.0</td>\n",
       "      <td>0.0</td>\n",
       "      <td>3.0</td>\n",
       "      <td>11.90</td>\n",
       "      <td>0.0</td>\n",
       "      <td>0.0</td>\n",
       "      <td>...</td>\n",
       "      <td>1.0</td>\n",
       "      <td>83.3</td>\n",
       "      <td>60.0</td>\n",
       "      <td>1.0</td>\n",
       "      <td>0.0</td>\n",
       "      <td>40385.0</td>\n",
       "      <td>30799.0</td>\n",
       "      <td>18600.0</td>\n",
       "      <td>21785.0</td>\n",
       "      <td>294.043518</td>\n",
       "    </tr>\n",
       "    <tr>\n",
       "      <th>288166</th>\n",
       "      <td>607.550000</td>\n",
       "      <td>3475.0</td>\n",
       "      <td>15.61</td>\n",
       "      <td>121.51</td>\n",
       "      <td>95000.0</td>\n",
       "      <td>0.0</td>\n",
       "      <td>3.0</td>\n",
       "      <td>7.55</td>\n",
       "      <td>0.0</td>\n",
       "      <td>2.0</td>\n",
       "      <td>...</td>\n",
       "      <td>2.0</td>\n",
       "      <td>100.0</td>\n",
       "      <td>40.0</td>\n",
       "      <td>0.0</td>\n",
       "      <td>0.0</td>\n",
       "      <td>547407.0</td>\n",
       "      <td>28362.0</td>\n",
       "      <td>14000.0</td>\n",
       "      <td>26332.0</td>\n",
       "      <td>781.828656</td>\n",
       "    </tr>\n",
       "    <tr>\n",
       "      <th>76435</th>\n",
       "      <td>7243.570001</td>\n",
       "      <td>6000.0</td>\n",
       "      <td>14.33</td>\n",
       "      <td>206.03</td>\n",
       "      <td>70000.0</td>\n",
       "      <td>1.0</td>\n",
       "      <td>116.0</td>\n",
       "      <td>12.14</td>\n",
       "      <td>0.0</td>\n",
       "      <td>0.0</td>\n",
       "      <td>...</td>\n",
       "      <td>1.0</td>\n",
       "      <td>100.0</td>\n",
       "      <td>0.0</td>\n",
       "      <td>1.0</td>\n",
       "      <td>0.0</td>\n",
       "      <td>90276.0</td>\n",
       "      <td>25599.0</td>\n",
       "      <td>7400.0</td>\n",
       "      <td>28676.0</td>\n",
       "      <td>339.756346</td>\n",
       "    </tr>\n",
       "    <tr>\n",
       "      <th>455544</th>\n",
       "      <td>1651.570000</td>\n",
       "      <td>4800.0</td>\n",
       "      <td>13.99</td>\n",
       "      <td>164.03</td>\n",
       "      <td>50000.0</td>\n",
       "      <td>0.0</td>\n",
       "      <td>3.0</td>\n",
       "      <td>9.60</td>\n",
       "      <td>0.0</td>\n",
       "      <td>1.0</td>\n",
       "      <td>...</td>\n",
       "      <td>4.0</td>\n",
       "      <td>81.2</td>\n",
       "      <td>16.7</td>\n",
       "      <td>0.0</td>\n",
       "      <td>0.0</td>\n",
       "      <td>31621.0</td>\n",
       "      <td>19619.0</td>\n",
       "      <td>15000.0</td>\n",
       "      <td>16621.0</td>\n",
       "      <td>304.822289</td>\n",
       "    </tr>\n",
       "    <tr>\n",
       "      <th>37361</th>\n",
       "      <td>6363.959998</td>\n",
       "      <td>5500.0</td>\n",
       "      <td>13.68</td>\n",
       "      <td>187.13</td>\n",
       "      <td>140000.0</td>\n",
       "      <td>1.0</td>\n",
       "      <td>3.0</td>\n",
       "      <td>7.31</td>\n",
       "      <td>0.0</td>\n",
       "      <td>1.0</td>\n",
       "      <td>...</td>\n",
       "      <td>6.0</td>\n",
       "      <td>85.0</td>\n",
       "      <td>100.0</td>\n",
       "      <td>0.0</td>\n",
       "      <td>0.0</td>\n",
       "      <td>359663.0</td>\n",
       "      <td>26367.0</td>\n",
       "      <td>5000.0</td>\n",
       "      <td>22058.0</td>\n",
       "      <td>748.143002</td>\n",
       "    </tr>\n",
       "    <tr>\n",
       "      <th>193134</th>\n",
       "      <td>10118.500000</td>\n",
       "      <td>10000.0</td>\n",
       "      <td>13.35</td>\n",
       "      <td>338.63</td>\n",
       "      <td>132000.0</td>\n",
       "      <td>1.0</td>\n",
       "      <td>3.0</td>\n",
       "      <td>12.90</td>\n",
       "      <td>0.0</td>\n",
       "      <td>0.0</td>\n",
       "      <td>...</td>\n",
       "      <td>5.0</td>\n",
       "      <td>96.6</td>\n",
       "      <td>33.3</td>\n",
       "      <td>0.0</td>\n",
       "      <td>0.0</td>\n",
       "      <td>432789.0</td>\n",
       "      <td>45761.0</td>\n",
       "      <td>15800.0</td>\n",
       "      <td>33510.0</td>\n",
       "      <td>389.805983</td>\n",
       "    </tr>\n",
       "    <tr>\n",
       "      <th>324643</th>\n",
       "      <td>2453.350000</td>\n",
       "      <td>2400.0</td>\n",
       "      <td>11.99</td>\n",
       "      <td>79.71</td>\n",
       "      <td>88000.0</td>\n",
       "      <td>1.0</td>\n",
       "      <td>3.0</td>\n",
       "      <td>18.34</td>\n",
       "      <td>0.0</td>\n",
       "      <td>0.0</td>\n",
       "      <td>...</td>\n",
       "      <td>4.0</td>\n",
       "      <td>100.0</td>\n",
       "      <td>0.0</td>\n",
       "      <td>1.0</td>\n",
       "      <td>0.0</td>\n",
       "      <td>63660.0</td>\n",
       "      <td>41949.0</td>\n",
       "      <td>8600.0</td>\n",
       "      <td>44360.0</td>\n",
       "      <td>1104.002007</td>\n",
       "    </tr>\n",
       "    <tr>\n",
       "      <th>34395</th>\n",
       "      <td>8325.840001</td>\n",
       "      <td>7000.0</td>\n",
       "      <td>15.10</td>\n",
       "      <td>243.01</td>\n",
       "      <td>87000.0</td>\n",
       "      <td>1.0</td>\n",
       "      <td>166.0</td>\n",
       "      <td>4.52</td>\n",
       "      <td>1.0</td>\n",
       "      <td>3.0</td>\n",
       "      <td>...</td>\n",
       "      <td>3.0</td>\n",
       "      <td>87.0</td>\n",
       "      <td>50.0</td>\n",
       "      <td>1.0</td>\n",
       "      <td>0.0</td>\n",
       "      <td>298707.0</td>\n",
       "      <td>14252.0</td>\n",
       "      <td>10000.0</td>\n",
       "      <td>8179.0</td>\n",
       "      <td>358.009958</td>\n",
       "    </tr>\n",
       "  </tbody>\n",
       "</table>\n",
       "<p>10 rows × 52 columns</p>\n",
       "</div>"
      ],
      "text/plain": [
       "         total_pymnt  loan_amnt  int_rate  installment  annual_inc  \\\n",
       "402883  17442.260000    17000.0     14.65       586.41    240000.0   \n",
       "65703    1692.505862     1500.0     15.80        52.59     45000.0   \n",
       "287789   5475.380000     7000.0     13.65       238.06     70000.0   \n",
       "288166    607.550000     3475.0     15.61       121.51     95000.0   \n",
       "76435    7243.570001     6000.0     14.33       206.03     70000.0   \n",
       "455544   1651.570000     4800.0     13.99       164.03     50000.0   \n",
       "37361    6363.959998     5500.0     13.68       187.13    140000.0   \n",
       "193134  10118.500000    10000.0     13.35       338.63    132000.0   \n",
       "324643   2453.350000     2400.0     11.99        79.71     88000.0   \n",
       "34395    8325.840001     7000.0     15.10       243.01     87000.0   \n",
       "\n",
       "        loan_status   desc    dti  delinq_2yrs  inq_last_6mths     ...       \\\n",
       "402883          1.0    3.0   6.51          1.0             0.0     ...        \n",
       "65703           1.0    3.0  12.03          0.0             0.0     ...        \n",
       "287789          0.0    3.0  11.90          0.0             0.0     ...        \n",
       "288166          0.0    3.0   7.55          0.0             2.0     ...        \n",
       "76435           1.0  116.0  12.14          0.0             0.0     ...        \n",
       "455544          0.0    3.0   9.60          0.0             1.0     ...        \n",
       "37361           1.0    3.0   7.31          0.0             1.0     ...        \n",
       "193134          1.0    3.0  12.90          0.0             0.0     ...        \n",
       "324643          1.0    3.0  18.34          0.0             0.0     ...        \n",
       "34395           1.0  166.0   4.52          1.0             3.0     ...        \n",
       "\n",
       "        num_tl_op_past_12m  pct_tl_nvr_dlq  percent_bc_gt_75  \\\n",
       "402883                 2.0            93.3             100.0   \n",
       "65703                  0.0           100.0             100.0   \n",
       "287789                 1.0            83.3              60.0   \n",
       "288166                 2.0           100.0              40.0   \n",
       "76435                  1.0           100.0               0.0   \n",
       "455544                 4.0            81.2              16.7   \n",
       "37361                  6.0            85.0             100.0   \n",
       "193134                 5.0            96.6              33.3   \n",
       "324643                 4.0           100.0               0.0   \n",
       "34395                  3.0            87.0              50.0   \n",
       "\n",
       "        pub_rec_bankruptcies  tax_liens  tot_hi_cred_lim  total_bal_ex_mort  \\\n",
       "402883                   0.0        0.0         618923.0            73663.0   \n",
       "65703                    0.0        0.0          10100.0             8962.0   \n",
       "287789                   1.0        0.0          40385.0            30799.0   \n",
       "288166                   0.0        0.0         547407.0            28362.0   \n",
       "76435                    1.0        0.0          90276.0            25599.0   \n",
       "455544                   0.0        0.0          31621.0            19619.0   \n",
       "37361                    0.0        0.0         359663.0            26367.0   \n",
       "193134                   0.0        0.0         432789.0            45761.0   \n",
       "324643                   1.0        0.0          63660.0            41949.0   \n",
       "34395                    1.0        0.0         298707.0            14252.0   \n",
       "\n",
       "        total_bc_limit  total_il_high_credit_limit     inc_inst  \n",
       "402883          6000.0                     77224.0   409.269965  \n",
       "65703           6900.0                         0.0   855.675984  \n",
       "287789         18600.0                     21785.0   294.043518  \n",
       "288166         14000.0                     26332.0   781.828656  \n",
       "76435           7400.0                     28676.0   339.756346  \n",
       "455544         15000.0                     16621.0   304.822289  \n",
       "37361           5000.0                     22058.0   748.143002  \n",
       "193134         15800.0                     33510.0   389.805983  \n",
       "324643          8600.0                     44360.0  1104.002007  \n",
       "34395          10000.0                      8179.0   358.009958  \n",
       "\n",
       "[10 rows x 52 columns]"
      ]
     },
     "execution_count": 1211,
     "metadata": {},
     "output_type": "execute_result"
    }
   ],
   "source": [
    "df_sel"
   ]
  },
  {
   "cell_type": "code",
   "execution_count": 1213,
   "metadata": {
    "collapsed": false
   },
   "outputs": [
    {
     "data": {
      "text/plain": [
       "array([ 0.93333333,  0.93333333,  0.93333333,  0.93333333,  0.93333333,\n",
       "        0.9       ,  0.9       ,  0.9       ,  0.9       ,  0.86666667])"
      ]
     },
     "execution_count": 1213,
     "metadata": {},
     "output_type": "execute_result"
    }
   ],
   "source": [
    "y_pred_prob[idx_high_prob]"
   ]
  },
  {
   "cell_type": "code",
   "execution_count": null,
   "metadata": {
    "collapsed": true
   },
   "outputs": [],
   "source": [
    "y_val[]"
   ]
  },
  {
   "cell_type": "code",
   "execution_count": null,
   "metadata": {
    "collapsed": true
   },
   "outputs": [],
   "source": []
  },
  {
   "cell_type": "code",
   "execution_count": 1195,
   "metadata": {
    "collapsed": true
   },
   "outputs": [],
   "source": [
    "y_pred_prob  = clf_cont.predict_proba(X_val)[:,1]\n",
    "\n",
    "int_rate = np.array(df_val['int_rate'])"
   ]
  },
  {
   "cell_type": "code",
   "execution_count": 1203,
   "metadata": {
    "collapsed": false
   },
   "outputs": [
    {
     "data": {
      "text/plain": [
       "array([  2.0293,   2.121 ,   2.2386, ...,  14.1015,  14.5684,  15.942 ])"
      ]
     },
     "execution_count": 1203,
     "metadata": {},
     "output_type": "execute_result"
    }
   ],
   "source": [
    "np.sort(y_pred_prob * int_rate)"
   ]
  },
  {
   "cell_type": "code",
   "execution_count": 1202,
   "metadata": {
    "collapsed": false
   },
   "outputs": [
    {
     "data": {
      "text/plain": [
       "array([ 0.565,  0.495,  0.52 , ...,  0.325,  0.46 ,  0.27 ])"
      ]
     },
     "execution_count": 1202,
     "metadata": {},
     "output_type": "execute_result"
    }
   ],
   "source": [
    "y_pred_prob"
   ]
  },
  {
   "cell_type": "code",
   "execution_count": 1197,
   "metadata": {
    "collapsed": false
   },
   "outputs": [
    {
     "data": {
      "text/plain": [
       "array([ 11.14,  18.75,  12.99, ...,  13.65,  10.99,  12.69])"
      ]
     },
     "execution_count": 1197,
     "metadata": {},
     "output_type": "execute_result"
    }
   ],
   "source": [
    "int_rate"
   ]
  },
  {
   "cell_type": "code",
   "execution_count": null,
   "metadata": {
    "collapsed": true
   },
   "outputs": [],
   "source": []
  },
  {
   "cell_type": "code",
   "execution_count": 1156,
   "metadata": {
    "collapsed": false
   },
   "outputs": [
    {
     "data": {
      "text/plain": [
       "array([ 0.835,  0.835,  0.83 ,  0.81 ,  0.81 ,  0.81 ,  0.81 ,  0.81 ,\n",
       "        0.8  ,  0.8  ,  0.8  ,  0.795,  0.795,  0.795,  0.795,  0.795,\n",
       "        0.79 ,  0.79 ,  0.79 ,  0.79 ,  0.79 ,  0.785,  0.785,  0.785,\n",
       "        0.785,  0.785,  0.785,  0.78 ,  0.78 ,  0.78 ])"
      ]
     },
     "execution_count": 1156,
     "metadata": {},
     "output_type": "execute_result"
    }
   ],
   "source": [
    "y_pred_prob[idx_high_prob]"
   ]
  },
  {
   "cell_type": "code",
   "execution_count": 1154,
   "metadata": {
    "collapsed": false
   },
   "outputs": [
    {
     "data": {
      "text/plain": [
       "(array([ 1.,  1.,  1.,  4.,  0.,  1.,  0.,  1.,  0.,  1.]),\n",
       " array([-0.04982669, -0.03592152, -0.02201635, -0.00811118,  0.00579398,\n",
       "         0.01969915,  0.03360432,  0.04750949,  0.06141466,  0.07531982,\n",
       "         0.08922499]),\n",
       " <a list of 10 Patch objects>)"
      ]
     },
     "execution_count": 1154,
     "metadata": {},
     "output_type": "execute_result"
    },
    {
     "data": {
      "image/png": "[encoded data removed]",
      "text/plain": [
       "<matplotlib.figure.Figure at 0x12f402310>"
      ]
     },
     "metadata": {},
     "output_type": "display_data"
    }
   ],
   "source": [
    "hist(mean_return_list_model)"
   ]
  },
  {
   "cell_type": "code",
   "execution_count": 822,
   "metadata": {
    "collapsed": true
   },
   "outputs": [],
   "source": [
    "def make_roc_cat(\n",
    "        X,y_val,\n",
    "        p_cut_list=np.arange(0., 1.01, 0.01),\n",
    "        ):\n",
    "\n",
    "        # p_pred_test = self.net.activateOnDataset(test)\n",
    "        # y_pred_test = np.argmax(p_pred_test, axis=1)\n",
    "        # p_pred_max_test = np.max(p_pred_test, axis=1)\n",
    "#         y_val = self.ds.val['class'].flat[:].astype('int')\n",
    "        p_pos_test = X[:,0]\n",
    "#         self.net.activateOnDataset(self.ds.val)[:, 1]\n",
    "\n",
    "        i_neg = np.where(y_val==0.)[0]\n",
    "        i_pos = np.where(y_val==1.)[0]\n",
    "        num_neg = float(len(y_val[i_neg]))\n",
    "        num_pos = float(len(y_val[i_pos]))\n",
    "\n",
    "        false_pos_rate = np.empty(len(p_cut_list))\n",
    "        false_pos_rate.fill(np.nan)\n",
    "\n",
    "        true_pos_rate = np.empty(len(p_cut_list))\n",
    "        true_pos_rate.fill(np.nan)\n",
    "        for (i, p_cut) in enumerate(p_cut_list):\n",
    "        #     i_neg_cut = where(p_pred_max_test[i_neg] > p_cut)[0]\n",
    "        #     i_pos_cut = where(p_pred_max_test[i_pos] > p_cut)[0]\n",
    "\n",
    "            i_neg_cut = np.where(p_pos_test[i_neg] > p_cut)[0]\n",
    "            i_pos_cut = np.where(p_pos_test[i_pos] > p_cut)[0]\n",
    "\n",
    "        #     num_false_pos = sum(y_pred_test[i_neg[i_neg_cut]] == 1.)\n",
    "\n",
    "            num_false_pos = len(i_neg[i_neg_cut])\n",
    "\n",
    "        #     num_true_pos = sum(y_pred_test[i_pos[i_pos_cut]] == 1.)\n",
    "\n",
    "            num_true_pos = len(i_pos[i_pos_cut])\n",
    "\n",
    "            false_pos_rate[i] = num_false_pos / num_neg\n",
    "            true_pos_rate[i] = num_true_pos / num_pos\n",
    "        return (false_pos_rate, true_pos_rate, num_pos, num_neg)\n",
    "    \n"
   ]
  },
  {
   "cell_type": "code",
   "execution_count": 824,
   "metadata": {
    "collapsed": true
   },
   "outputs": [],
   "source": [
    "\n",
    "pos_rate_list.append(make_roc_cat(X_val_cat, y_val_cat))"
   ]
  },
  {
   "cell_type": "code",
   "execution_count": 823,
   "metadata": {
    "collapsed": false
   },
   "outputs": [],
   "source": [
    "pos_rate_list = []\n",
    "pos_rate_list.append(make_roc_curve(clf_cont, X_val, y_val))"
   ]
  },
  {
   "cell_type": "code",
   "execution_count": 825,
   "metadata": {
    "collapsed": false
   },
   "outputs": [
    {
     "data": {
      "text/plain": [
       "<matplotlib.text.Text at 0x110b23c90>"
      ]
     },
     "execution_count": 825,
     "metadata": {},
     "output_type": "execute_result"
    },
    {
     "data": {
      "image/png": "[encoded data removed]",
      "text/plain": [
       "<matplotlib.figure.Figure at 0x110989910>"
      ]
     },
     "metadata": {},
     "output_type": "display_data"
    }
   ],
   "source": [
    "fig = figure(figsize=(8,8))\n",
    "ax = fig.add_subplot(111, aspect='equal')\n",
    "ax.plot(np.arange(0,1.01,0.1), np.arange(0,1.01,0.1),  c=dark_grey, lw=1)\n",
    "for i in range(len(pos_rate_list)):\n",
    "    if i == len(pos_rate_list)-1:\n",
    "        ax.plot(pos_rate_list[i][0], pos_rate_list[i][1],  c=almost_black, lw=3)\n",
    "    else:\n",
    "        ax.plot(pos_rate_list[i][0], pos_rate_list[i][1], c=my_map[i%8], markeredgecolor=my_map[i%8], lw=3)\n",
    "xlabel('false pos rate', fontsize=14)\n",
    "ylabel('true pos rate', fontsize=14)"
   ]
  },
  {
   "cell_type": "code",
   "execution_count": 770,
   "metadata": {
    "collapsed": false
   },
   "outputs": [
    {
     "data": {
      "text/plain": [
       "(array([   28.,   139.,   678.,  1290.,  2287.,  2394.,  2101.,  1074.,\n",
       "          347.,    71.]),\n",
       " array([ 0.115 ,  0.1875,  0.26  ,  0.3325,  0.405 ,  0.4775,  0.55  ,\n",
       "         0.6225,  0.695 ,  0.7675,  0.84  ]),\n",
       " <a list of 10 Patch objects>)"
      ]
     },
     "execution_count": 770,
     "metadata": {},
     "output_type": "execute_result"
    },
    {
     "data": {
      "image/png": "[encoded data removed]",
      "text/plain": [
       "<matplotlib.figure.Figure at 0x11b76a510>"
      ]
     },
     "metadata": {},
     "output_type": "display_data"
    }
   ],
   "source": [
    "hist(y_pred_prob[:,1])"
   ]
  },
  {
   "cell_type": "markdown",
   "metadata": {},
   "source": [
    "#neural net"
   ]
  },
  {
   "cell_type": "code",
   "execution_count": 667,
   "metadata": {
    "collapsed": true
   },
   "outputs": [],
   "source": [
    "from IPython import display\n",
    "\n",
    "def make_nn_dataset(\n",
    "    X,\n",
    "    y,\n",
    "    len_feat_bool=False,\n",
    "    ):\n",
    "    num_classes = 2\n",
    "    num_samples = len(y)\n",
    "    len_feat = len(X[0])\n",
    "    nn_dataset = ClassificationDataSet(len_feat, 1,\n",
    "            nb_classes=num_classes)\n",
    "    for i in range(num_samples):\n",
    "        nn_dataset.addSample(X[i], y[i])\n",
    "\n",
    "    nn_dataset._convertToOneOfMany()\n",
    "\n",
    "    if len_feat_bool:\n",
    "        return (nn_dataset, len_feat)\n",
    "    else:\n",
    "        return nn_dataset\n",
    "    \n",
    "\n",
    "class DataSet:\n",
    "    def __init__(self, train, val, len_feat):\n",
    "        self.train = train\n",
    "        self.val = val\n",
    "        self.len_feat = len_feat\n",
    "        \n",
    "    def make_class_count_even(self):\n",
    "\n",
    "        # i_even_gain = self.get_class_count_even_idx(self.y_gain_train_val)\n",
    "\n",
    "        self.get_class_count_even_idx()\n",
    "\n",
    "        # now make separate X arrays for gain and loss because of\n",
    "        # different random split to make class counts even\n",
    "\n",
    "        (self.X_train_val, self.y_train_val, self.value_train_val) = \\\n",
    "            (self.X_train_val[self.i_even],\n",
    "             self.y_train_val[self.i_even],\n",
    "             self.value_train_val[self.i_even])\n",
    "            \n",
    "            \n",
    "class NeuralNet:\n",
    "\n",
    "    def __init__(\n",
    "        self,\n",
    "        ds,\n",
    "        hidden_layers=[100, 50, 25],\n",
    "        num_classes=2,\n",
    "        ):\n",
    "        self.net = buildNetwork(\n",
    "            ds.len_feat,\n",
    "            hidden_layers[0],\n",
    "            hidden_layers[1],\n",
    "            num_classes,\n",
    "            hiddenclass=SigmoidLayer,\n",
    "            bias=True,\n",
    "            outclass=SoftmaxLayer,\n",
    "            )\n",
    "\n",
    "        self.trainer = BackpropTrainer(\n",
    "            self.net,\n",
    "            dataset=ds.train,\n",
    "            learningrate=0.005,\n",
    "            momentum=0.08,\n",
    "            weightdecay=0.005,\n",
    "            verbose=True,\n",
    "            )\n",
    "\n",
    "        # self.trainer = DeepBeliefTrainer\n",
    "\n",
    "        self.ds = ds\n",
    "\n",
    "    def train_net(self, num_epochs=500, title=''):\n",
    "\n",
    "        # ds_train, val, gain_val, gain_cut,\n",
    "        # err_train = []\n",
    "        # err_val = []\n",
    "\n",
    "        kappa_train = []\n",
    "        kappa_val = []\n",
    "        exp_gain = []\n",
    "        y_train = self.ds.train['class'].flat[:].astype('int')\n",
    "        y_val = self.ds.val['class'].flat[:].astype('int')\n",
    "        net_list = []\n",
    "        (fig, ax1) = plt.subplots(nrows=1, ncols=1, figsize=(8, 10))\n",
    "        for i in range(num_epochs):\n",
    "            self.trainer.trainEpochs(1)\n",
    "            net_list.append(self.net)\n",
    "\n",
    "            # err_train.append(0.01*percentError(trainer.testOnClassData(),\n",
    "            #                               train['class']))\n",
    "            # err_val.append(0.01*percentError(trainer.testOnClassData(\n",
    "            #                 dataset=val), val['class']))\n",
    "\n",
    "            y_pred_val = \\\n",
    "                self.net.activateOnDataset(self.ds.val).argmax(axis=1)\n",
    "            y_pred_train = \\\n",
    "                self.net.activateOnDataset(self.ds.train).argmax(axis=1)\n",
    "            kappa_val.append(skll.metrics.kappa(y_val, y_pred_val))\n",
    "            kappa_train.append(skll.metrics.kappa(y_train,\n",
    "                               y_pred_train))\n",
    "\n",
    "            # exp_gain.append(self.make_expected_gain(self.net, self.ds.val,\n",
    "            #                                    self.ds.value_val, self.ds.y_cut))\n",
    "\n",
    "            # plt.plot(np.array(err_train), '--b', lw=2)\n",
    "            # plt.plot(np.array(err_val), '--r', lw=2)\n",
    "\n",
    "            ax1.plot(np.array(kappa_train), c=my_map[1], lw=2)\n",
    "            ax1.plot(np.array(kappa_val), c=my_map[0], lw=2)\n",
    "            ax1.set_title(title)\n",
    "\n",
    "            # ax2.plot(np.array(exp_gain), c=almost_black, lw=2)\n",
    "\n",
    "            ax1.grid(True)\n",
    "            display.clear_output(wait=True)\n",
    "            display.display(plt.gcf())\n",
    "\n",
    "        # trainEpochs(epochs=1\n",
    "        # plot(errors[0])\n",
    "        # plot(errors[1])\n",
    "        # param for trainuntilconvergence(validationProportion=0.25)\n",
    "        # y_pred_val = net.activateOnDataset(val).argmax(axis=1)\n",
    "        # y_pred_train = net.activateOnDataset(train).argmax(axis=1)\n",
    "        # print skll.metrics.kappa(y_val, y_pred_val)\n",
    "        # return net_list, kappa_val, exp_gain\n",
    "        \n",
    "    def make_roc_curve(\n",
    "        self,\n",
    "        p_cut_list=np.arange(0., 1.01, 0.01),\n",
    "        ):\n",
    "\n",
    "        # p_pred_test = self.net.activateOnDataset(test)\n",
    "        # y_pred_test = np.argmax(p_pred_test, axis=1)\n",
    "        # p_pred_max_test = np.max(p_pred_test, axis=1)\n",
    "        y_val = self.ds.val['class'].flat[:].astype('int')\n",
    "        p_pos_test = self.net.activateOnDataset(self.ds.val)[:, 1]\n",
    "\n",
    "        i_neg = np.where(y_val==0.)[0]\n",
    "        i_pos = np.where(y_val==1.)[0]\n",
    "        num_neg = float(len(y_val[i_neg]))\n",
    "        num_pos = float(len(y_val[i_pos]))\n",
    "\n",
    "        false_pos_rate = np.empty(len(p_cut_list))\n",
    "        false_pos_rate.fill(np.nan)\n",
    "\n",
    "        true_pos_rate = np.empty(len(p_cut_list))\n",
    "        true_pos_rate.fill(np.nan)\n",
    "        for (i, p_cut) in enumerate(p_cut_list):\n",
    "        #     i_neg_cut = where(p_pred_max_test[i_neg] > p_cut)[0]\n",
    "        #     i_pos_cut = where(p_pred_max_test[i_pos] > p_cut)[0]\n",
    "\n",
    "            i_neg_cut = np.where(p_pos_test[i_neg] > p_cut)[0]\n",
    "            i_pos_cut = np.where(p_pos_test[i_pos] > p_cut)[0]\n",
    "\n",
    "        #     num_false_pos = sum(y_pred_test[i_neg[i_neg_cut]] == 1.)\n",
    "\n",
    "            num_false_pos = len(i_neg[i_neg_cut])\n",
    "\n",
    "        #     num_true_pos = sum(y_pred_test[i_pos[i_pos_cut]] == 1.)\n",
    "\n",
    "            num_true_pos = len(i_pos[i_pos_cut])\n",
    "\n",
    "            false_pos_rate[i] = num_false_pos / num_neg\n",
    "            true_pos_rate[i] = num_true_pos / num_pos\n",
    "        return (false_pos_rate, true_pos_rate, num_pos, num_neg)\n",
    "   "
   ]
  },
  {
   "cell_type": "code",
   "execution_count": 668,
   "metadata": {
    "collapsed": true
   },
   "outputs": [],
   "source": [
    "(train, len_feat) = make_nn_dataset(X_train, y_train, len_feat_bool=True)\n",
    "val = make_nn_dataset(X_val, y_val)\n",
    "ds = DataSet(train, val, len_feat)\n",
    "net = NeuralNet(ds, [50,25,5])"
   ]
  },
  {
   "cell_type": "code",
   "execution_count": 669,
   "metadata": {
    "collapsed": false
   },
   "outputs": [
    {
     "data": {
      "image/png": "[encoded data removed]",
      "text/plain": [
       "<matplotlib.figure.Figure at 0x1402c0c90>"
      ]
     },
     "metadata": {},
     "output_type": "display_data"
    },
    {
     "ename": "KeyboardInterrupt",
     "evalue": "",
     "output_type": "error",
     "traceback": [
      "\u001b[0;31m---------------------------------------------------------------------------\u001b[0m",
      "\u001b[0;31mKeyboardInterrupt\u001b[0m                         Traceback (most recent call last)",
      "\u001b[0;32m<ipython-input-669-5fb3c9d6f25f>\u001b[0m in \u001b[0;36m<module>\u001b[0;34m()\u001b[0m\n\u001b[0;32m----> 1\u001b[0;31m \u001b[0mnet\u001b[0m\u001b[0;34m.\u001b[0m\u001b[0mtrain_net\u001b[0m\u001b[0;34m(\u001b[0m\u001b[0mnum_epochs\u001b[0m\u001b[0;34m=\u001b[0m\u001b[0;36m200\u001b[0m\u001b[0;34m)\u001b[0m\u001b[0;34m\u001b[0m\u001b[0m\n\u001b[0m",
      "\u001b[0;32m<ipython-input-667-c793773e6e50>\u001b[0m in \u001b[0;36mtrain_net\u001b[0;34m(self, num_epochs, title)\u001b[0m\n\u001b[1;32m     87\u001b[0m         \u001b[0;34m(\u001b[0m\u001b[0mfig\u001b[0m\u001b[0;34m,\u001b[0m \u001b[0max1\u001b[0m\u001b[0;34m)\u001b[0m \u001b[0;34m=\u001b[0m \u001b[0mplt\u001b[0m\u001b[0;34m.\u001b[0m\u001b[0msubplots\u001b[0m\u001b[0;34m(\u001b[0m\u001b[0mnrows\u001b[0m\u001b[0;34m=\u001b[0m\u001b[0;36m1\u001b[0m\u001b[0;34m,\u001b[0m \u001b[0mncols\u001b[0m\u001b[0;34m=\u001b[0m\u001b[0;36m1\u001b[0m\u001b[0;34m,\u001b[0m \u001b[0mfigsize\u001b[0m\u001b[0;34m=\u001b[0m\u001b[0;34m(\u001b[0m\u001b[0;36m8\u001b[0m\u001b[0;34m,\u001b[0m \u001b[0;36m10\u001b[0m\u001b[0;34m)\u001b[0m\u001b[0;34m)\u001b[0m\u001b[0;34m\u001b[0m\u001b[0m\n\u001b[1;32m     88\u001b[0m         \u001b[0;32mfor\u001b[0m \u001b[0mi\u001b[0m \u001b[0;32min\u001b[0m \u001b[0mrange\u001b[0m\u001b[0;34m(\u001b[0m\u001b[0mnum_epochs\u001b[0m\u001b[0;34m)\u001b[0m\u001b[0;34m:\u001b[0m\u001b[0;34m\u001b[0m\u001b[0m\n\u001b[0;32m---> 89\u001b[0;31m             \u001b[0mself\u001b[0m\u001b[0;34m.\u001b[0m\u001b[0mtrainer\u001b[0m\u001b[0;34m.\u001b[0m\u001b[0mtrainEpochs\u001b[0m\u001b[0;34m(\u001b[0m\u001b[0;36m1\u001b[0m\u001b[0;34m)\u001b[0m\u001b[0;34m\u001b[0m\u001b[0m\n\u001b[0m\u001b[1;32m     90\u001b[0m             \u001b[0mnet_list\u001b[0m\u001b[0;34m.\u001b[0m\u001b[0mappend\u001b[0m\u001b[0;34m(\u001b[0m\u001b[0mself\u001b[0m\u001b[0;34m.\u001b[0m\u001b[0mnet\u001b[0m\u001b[0;34m)\u001b[0m\u001b[0;34m\u001b[0m\u001b[0m\n\u001b[1;32m     91\u001b[0m \u001b[0;34m\u001b[0m\u001b[0m\n",
      "\u001b[0;32m/usr/local/lib/python2.7/site-packages/pybrain/supervised/trainers/trainer.pyc\u001b[0m in \u001b[0;36mtrainEpochs\u001b[0;34m(self, epochs, *args, **kwargs)\u001b[0m\n\u001b[1;32m     35\u001b[0m         Additional arguments are passed on to the train method.\"\"\"\n\u001b[1;32m     36\u001b[0m         \u001b[0;32mfor\u001b[0m \u001b[0mdummy\u001b[0m \u001b[0;32min\u001b[0m \u001b[0mrange\u001b[0m\u001b[0;34m(\u001b[0m\u001b[0mepochs\u001b[0m\u001b[0;34m)\u001b[0m\u001b[0;34m:\u001b[0m\u001b[0;34m\u001b[0m\u001b[0m\n\u001b[0;32m---> 37\u001b[0;31m             \u001b[0mself\u001b[0m\u001b[0;34m.\u001b[0m\u001b[0mtrain\u001b[0m\u001b[0;34m(\u001b[0m\u001b[0;34m*\u001b[0m\u001b[0margs\u001b[0m\u001b[0;34m,\u001b[0m \u001b[0;34m**\u001b[0m\u001b[0mkwargs\u001b[0m\u001b[0;34m)\u001b[0m\u001b[0;34m\u001b[0m\u001b[0m\n\u001b[0m\u001b[1;32m     38\u001b[0m \u001b[0;34m\u001b[0m\u001b[0m\n\u001b[1;32m     39\u001b[0m     \u001b[0;32mdef\u001b[0m \u001b[0mtrain\u001b[0m\u001b[0;34m(\u001b[0m\u001b[0mself\u001b[0m\u001b[0;34m)\u001b[0m\u001b[0;34m:\u001b[0m\u001b[0;34m\u001b[0m\u001b[0m\n",
      "\u001b[0;32m/usr/local/lib/python2.7/site-packages/pybrain/supervised/trainers/backprop.pyc\u001b[0m in \u001b[0;36mtrain\u001b[0;34m(self)\u001b[0m\n\u001b[1;32m     57\u001b[0m         \u001b[0mshuffle\u001b[0m\u001b[0;34m(\u001b[0m\u001b[0mshuffledSequences\u001b[0m\u001b[0;34m)\u001b[0m\u001b[0;34m\u001b[0m\u001b[0m\n\u001b[1;32m     58\u001b[0m         \u001b[0;32mfor\u001b[0m \u001b[0mseq\u001b[0m \u001b[0;32min\u001b[0m \u001b[0mshuffledSequences\u001b[0m\u001b[0;34m:\u001b[0m\u001b[0;34m\u001b[0m\u001b[0m\n\u001b[0;32m---> 59\u001b[0;31m             \u001b[0me\u001b[0m\u001b[0;34m,\u001b[0m \u001b[0mp\u001b[0m \u001b[0;34m=\u001b[0m \u001b[0mself\u001b[0m\u001b[0;34m.\u001b[0m\u001b[0m_calcDerivs\u001b[0m\u001b[0;34m(\u001b[0m\u001b[0mseq\u001b[0m\u001b[0;34m)\u001b[0m\u001b[0;34m\u001b[0m\u001b[0m\n\u001b[0m\u001b[1;32m     60\u001b[0m             \u001b[0merrors\u001b[0m \u001b[0;34m+=\u001b[0m \u001b[0me\u001b[0m\u001b[0;34m\u001b[0m\u001b[0m\n\u001b[1;32m     61\u001b[0m             \u001b[0mponderation\u001b[0m \u001b[0;34m+=\u001b[0m \u001b[0mp\u001b[0m\u001b[0;34m\u001b[0m\u001b[0m\n",
      "\u001b[0;32m/usr/local/lib/python2.7/site-packages/pybrain/supervised/trainers/backprop.pyc\u001b[0m in \u001b[0;36m_calcDerivs\u001b[0;34m(self, seq)\u001b[0m\n\u001b[1;32m     81\u001b[0m         \u001b[0mself\u001b[0m\u001b[0;34m.\u001b[0m\u001b[0mmodule\u001b[0m\u001b[0;34m.\u001b[0m\u001b[0mreset\u001b[0m\u001b[0;34m(\u001b[0m\u001b[0;34m)\u001b[0m\u001b[0;34m\u001b[0m\u001b[0m\n\u001b[1;32m     82\u001b[0m         \u001b[0;32mfor\u001b[0m \u001b[0msample\u001b[0m \u001b[0;32min\u001b[0m \u001b[0mseq\u001b[0m\u001b[0;34m:\u001b[0m\u001b[0;34m\u001b[0m\u001b[0m\n\u001b[0;32m---> 83\u001b[0;31m             \u001b[0mself\u001b[0m\u001b[0;34m.\u001b[0m\u001b[0mmodule\u001b[0m\u001b[0;34m.\u001b[0m\u001b[0mactivate\u001b[0m\u001b[0;34m(\u001b[0m\u001b[0msample\u001b[0m\u001b[0;34m[\u001b[0m\u001b[0;36m0\u001b[0m\u001b[0;34m]\u001b[0m\u001b[0;34m)\u001b[0m\u001b[0;34m\u001b[0m\u001b[0m\n\u001b[0m\u001b[1;32m     84\u001b[0m         \u001b[0merror\u001b[0m \u001b[0;34m=\u001b[0m \u001b[0;36m0\u001b[0m\u001b[0;34m\u001b[0m\u001b[0m\n\u001b[1;32m     85\u001b[0m         \u001b[0mponderation\u001b[0m \u001b[0;34m=\u001b[0m \u001b[0;36m0.\u001b[0m\u001b[0;34m\u001b[0m\u001b[0m\n",
      "\u001b[0;32m/usr/local/lib/python2.7/site-packages/pybrain/structure/networks/feedforward.pyc\u001b[0m in \u001b[0;36mactivate\u001b[0;34m(self, inpt)\u001b[0m\n\u001b[1;32m     18\u001b[0m         \u001b[0;34m\"\"\"Do one transformation of an input and return the result.\"\"\"\u001b[0m\u001b[0;34m\u001b[0m\u001b[0m\n\u001b[1;32m     19\u001b[0m         \u001b[0mself\u001b[0m\u001b[0;34m.\u001b[0m\u001b[0mreset\u001b[0m\u001b[0;34m(\u001b[0m\u001b[0;34m)\u001b[0m\u001b[0;34m\u001b[0m\u001b[0m\n\u001b[0;32m---> 20\u001b[0;31m         \u001b[0;32mreturn\u001b[0m \u001b[0msuper\u001b[0m\u001b[0;34m(\u001b[0m\u001b[0mFeedForwardNetworkComponent\u001b[0m\u001b[0;34m,\u001b[0m \u001b[0mself\u001b[0m\u001b[0;34m)\u001b[0m\u001b[0;34m.\u001b[0m\u001b[0mactivate\u001b[0m\u001b[0;34m(\u001b[0m\u001b[0minpt\u001b[0m\u001b[0;34m)\u001b[0m\u001b[0;34m\u001b[0m\u001b[0m\n\u001b[0m\u001b[1;32m     21\u001b[0m \u001b[0;34m\u001b[0m\u001b[0m\n\u001b[1;32m     22\u001b[0m     \u001b[0;32mdef\u001b[0m \u001b[0m_forwardImplementation\u001b[0m\u001b[0;34m(\u001b[0m\u001b[0mself\u001b[0m\u001b[0;34m,\u001b[0m \u001b[0minbuf\u001b[0m\u001b[0;34m,\u001b[0m \u001b[0moutbuf\u001b[0m\u001b[0;34m)\u001b[0m\u001b[0;34m:\u001b[0m\u001b[0;34m\u001b[0m\u001b[0m\n",
      "\u001b[0;32m/usr/local/lib/python2.7/site-packages/pybrain/structure/modules/module.pyc\u001b[0m in \u001b[0;36mactivate\u001b[0;34m(self, inpt)\u001b[0m\n\u001b[1;32m    104\u001b[0m         \u001b[0;32massert\u001b[0m \u001b[0mlen\u001b[0m\u001b[0;34m(\u001b[0m\u001b[0mself\u001b[0m\u001b[0;34m.\u001b[0m\u001b[0minputbuffer\u001b[0m\u001b[0;34m[\u001b[0m\u001b[0mself\u001b[0m\u001b[0;34m.\u001b[0m\u001b[0moffset\u001b[0m\u001b[0;34m]\u001b[0m\u001b[0;34m)\u001b[0m \u001b[0;34m==\u001b[0m \u001b[0mlen\u001b[0m\u001b[0;34m(\u001b[0m\u001b[0minpt\u001b[0m\u001b[0;34m)\u001b[0m\u001b[0;34m,\u001b[0m \u001b[0mstr\u001b[0m\u001b[0;34m(\u001b[0m\u001b[0;34m(\u001b[0m\u001b[0mlen\u001b[0m\u001b[0;34m(\u001b[0m\u001b[0mself\u001b[0m\u001b[0;34m.\u001b[0m\u001b[0minputbuffer\u001b[0m\u001b[0;34m[\u001b[0m\u001b[0mself\u001b[0m\u001b[0;34m.\u001b[0m\u001b[0moffset\u001b[0m\u001b[0;34m]\u001b[0m\u001b[0;34m)\u001b[0m\u001b[0;34m,\u001b[0m \u001b[0mlen\u001b[0m\u001b[0;34m(\u001b[0m\u001b[0minpt\u001b[0m\u001b[0;34m)\u001b[0m\u001b[0;34m)\u001b[0m\u001b[0;34m)\u001b[0m\u001b[0;34m\u001b[0m\u001b[0m\n\u001b[1;32m    105\u001b[0m         \u001b[0mself\u001b[0m\u001b[0;34m.\u001b[0m\u001b[0minputbuffer\u001b[0m\u001b[0;34m[\u001b[0m\u001b[0mself\u001b[0m\u001b[0;34m.\u001b[0m\u001b[0moffset\u001b[0m\u001b[0;34m]\u001b[0m \u001b[0;34m=\u001b[0m \u001b[0minpt\u001b[0m\u001b[0;34m\u001b[0m\u001b[0m\n\u001b[0;32m--> 106\u001b[0;31m         \u001b[0mself\u001b[0m\u001b[0;34m.\u001b[0m\u001b[0mforward\u001b[0m\u001b[0;34m(\u001b[0m\u001b[0;34m)\u001b[0m\u001b[0;34m\u001b[0m\u001b[0m\n\u001b[0m\u001b[1;32m    107\u001b[0m         \u001b[0;32mreturn\u001b[0m \u001b[0mself\u001b[0m\u001b[0;34m.\u001b[0m\u001b[0moutputbuffer\u001b[0m\u001b[0;34m[\u001b[0m\u001b[0mself\u001b[0m\u001b[0;34m.\u001b[0m\u001b[0moffset\u001b[0m\u001b[0;34m]\u001b[0m\u001b[0;34m.\u001b[0m\u001b[0mcopy\u001b[0m\u001b[0;34m(\u001b[0m\u001b[0;34m)\u001b[0m\u001b[0;34m\u001b[0m\u001b[0m\n\u001b[1;32m    108\u001b[0m \u001b[0;34m\u001b[0m\u001b[0m\n",
      "\u001b[0;32m/usr/local/lib/python2.7/site-packages/pybrain/structure/modules/module.pyc\u001b[0m in \u001b[0;36mforward\u001b[0;34m(self)\u001b[0m\n\u001b[1;32m     71\u001b[0m         \u001b[0;34m\"\"\"Produce the output from the input.\"\"\"\u001b[0m\u001b[0;34m\u001b[0m\u001b[0m\n\u001b[1;32m     72\u001b[0m         self._forwardImplementation(self.inputbuffer[self.offset],\n\u001b[0;32m---> 73\u001b[0;31m                                     self.outputbuffer[self.offset])\n\u001b[0m\u001b[1;32m     74\u001b[0m \u001b[0;34m\u001b[0m\u001b[0m\n\u001b[1;32m     75\u001b[0m     \u001b[0;32mdef\u001b[0m \u001b[0mbackward\u001b[0m\u001b[0;34m(\u001b[0m\u001b[0mself\u001b[0m\u001b[0;34m)\u001b[0m\u001b[0;34m:\u001b[0m\u001b[0;34m\u001b[0m\u001b[0m\n",
      "\u001b[0;32m/usr/local/lib/python2.7/site-packages/pybrain/structure/networks/feedforward.pyc\u001b[0m in \u001b[0;36m_forwardImplementation\u001b[0;34m(self, inbuf, outbuf)\u001b[0m\n\u001b[1;32m     31\u001b[0m             \u001b[0mm\u001b[0m\u001b[0;34m.\u001b[0m\u001b[0mforward\u001b[0m\u001b[0;34m(\u001b[0m\u001b[0;34m)\u001b[0m\u001b[0;34m\u001b[0m\u001b[0m\n\u001b[1;32m     32\u001b[0m             \u001b[0;32mfor\u001b[0m \u001b[0mc\u001b[0m \u001b[0;32min\u001b[0m \u001b[0mself\u001b[0m\u001b[0;34m.\u001b[0m\u001b[0mconnections\u001b[0m\u001b[0;34m[\u001b[0m\u001b[0mm\u001b[0m\u001b[0;34m]\u001b[0m\u001b[0;34m:\u001b[0m\u001b[0;34m\u001b[0m\u001b[0m\n\u001b[0;32m---> 33\u001b[0;31m                 \u001b[0mc\u001b[0m\u001b[0;34m.\u001b[0m\u001b[0mforward\u001b[0m\u001b[0;34m(\u001b[0m\u001b[0;34m)\u001b[0m\u001b[0;34m\u001b[0m\u001b[0m\n\u001b[0m\u001b[1;32m     34\u001b[0m \u001b[0;34m\u001b[0m\u001b[0m\n\u001b[1;32m     35\u001b[0m         \u001b[0mindex\u001b[0m \u001b[0;34m=\u001b[0m \u001b[0;36m0\u001b[0m\u001b[0;34m\u001b[0m\u001b[0m\n",
      "\u001b[0;32m/usr/local/lib/python2.7/site-packages/pybrain/structure/connections/connection.pyc\u001b[0m in \u001b[0;36mforward\u001b[0;34m(self, inmodOffset, outmodOffset)\u001b[0m\n\u001b[1;32m     75\u001b[0m         self._forwardImplementation(\n\u001b[1;32m     76\u001b[0m             \u001b[0mself\u001b[0m\u001b[0;34m.\u001b[0m\u001b[0minmod\u001b[0m\u001b[0;34m.\u001b[0m\u001b[0moutputbuffer\u001b[0m\u001b[0;34m[\u001b[0m\u001b[0minmodOffset\u001b[0m\u001b[0;34m,\u001b[0m \u001b[0mself\u001b[0m\u001b[0;34m.\u001b[0m\u001b[0minSliceFrom\u001b[0m\u001b[0;34m:\u001b[0m\u001b[0mself\u001b[0m\u001b[0;34m.\u001b[0m\u001b[0minSliceTo\u001b[0m\u001b[0;34m]\u001b[0m\u001b[0;34m,\u001b[0m\u001b[0;34m\u001b[0m\u001b[0m\n\u001b[0;32m---> 77\u001b[0;31m             self.outmod.inputbuffer[outmodOffset, self.outSliceFrom:self.outSliceTo])\n\u001b[0m\u001b[1;32m     78\u001b[0m \u001b[0;34m\u001b[0m\u001b[0m\n\u001b[1;32m     79\u001b[0m \u001b[0;34m\u001b[0m\u001b[0m\n",
      "\u001b[0;32m/usr/local/lib/python2.7/site-packages/pybrain/structure/connections/full.pyc\u001b[0m in \u001b[0;36m_forwardImplementation\u001b[0;34m(self, inbuf, outbuf)\u001b[0m\n\u001b[1;32m     17\u001b[0m \u001b[0;34m\u001b[0m\u001b[0m\n\u001b[1;32m     18\u001b[0m     \u001b[0;32mdef\u001b[0m \u001b[0m_forwardImplementation\u001b[0m\u001b[0;34m(\u001b[0m\u001b[0mself\u001b[0m\u001b[0;34m,\u001b[0m \u001b[0minbuf\u001b[0m\u001b[0;34m,\u001b[0m \u001b[0moutbuf\u001b[0m\u001b[0;34m)\u001b[0m\u001b[0;34m:\u001b[0m\u001b[0;34m\u001b[0m\u001b[0m\n\u001b[0;32m---> 19\u001b[0;31m         \u001b[0moutbuf\u001b[0m \u001b[0;34m+=\u001b[0m \u001b[0mdot\u001b[0m\u001b[0;34m(\u001b[0m\u001b[0mreshape\u001b[0m\u001b[0;34m(\u001b[0m\u001b[0mself\u001b[0m\u001b[0;34m.\u001b[0m\u001b[0mparams\u001b[0m\u001b[0;34m,\u001b[0m \u001b[0;34m(\u001b[0m\u001b[0mself\u001b[0m\u001b[0;34m.\u001b[0m\u001b[0moutdim\u001b[0m\u001b[0;34m,\u001b[0m \u001b[0mself\u001b[0m\u001b[0;34m.\u001b[0m\u001b[0mindim\u001b[0m\u001b[0;34m)\u001b[0m\u001b[0;34m)\u001b[0m\u001b[0;34m,\u001b[0m \u001b[0minbuf\u001b[0m\u001b[0;34m)\u001b[0m\u001b[0;34m\u001b[0m\u001b[0m\n\u001b[0m\u001b[1;32m     20\u001b[0m \u001b[0;34m\u001b[0m\u001b[0m\n\u001b[1;32m     21\u001b[0m     \u001b[0;32mdef\u001b[0m \u001b[0m_backwardImplementation\u001b[0m\u001b[0;34m(\u001b[0m\u001b[0mself\u001b[0m\u001b[0;34m,\u001b[0m \u001b[0mouterr\u001b[0m\u001b[0;34m,\u001b[0m \u001b[0minerr\u001b[0m\u001b[0;34m,\u001b[0m \u001b[0minbuf\u001b[0m\u001b[0;34m)\u001b[0m\u001b[0;34m:\u001b[0m\u001b[0;34m\u001b[0m\u001b[0m\n",
      "\u001b[0;31mKeyboardInterrupt\u001b[0m: "
     ]
    },
    {
     "data": {
      "image/png": "[encoded data removed]",
      "text/plain": [
       "<matplotlib.figure.Figure at 0x1402c0c90>"
      ]
     },
     "metadata": {},
     "output_type": "display_data"
    }
   ],
   "source": [
    "net.train_net(num_epochs=200)"
   ]
  },
  {
   "cell_type": "code",
   "execution_count": 670,
   "metadata": {
    "collapsed": false
   },
   "outputs": [
    {
     "data": {
      "text/plain": [
       "(array([   30.,   347.,  1303.,  2262.,  2501.,  2093.,  1436.,   853.,\n",
       "          370.,    49.]),\n",
       " array([ 0.16259642,  0.24090848,  0.31922053,  0.39753259,  0.47584464,\n",
       "         0.5541567 ,  0.63246875,  0.71078081,  0.78909286,  0.86740491,\n",
       "         0.94571697]),\n",
       " <a list of 10 Patch objects>)"
      ]
     },
     "execution_count": 670,
     "metadata": {},
     "output_type": "execute_result"
    },
    {
     "data": {
      "image/png": "[encoded data removed]",
      "text/plain": [
       "<matplotlib.figure.Figure at 0x1603bb310>"
      ]
     },
     "metadata": {},
     "output_type": "display_data"
    }
   ],
   "source": [
    "hist(net.net.activateOnDataset(net.ds.val)[:, 1])"
   ]
  },
  {
   "cell_type": "code",
   "execution_count": 684,
   "metadata": {
    "collapsed": true
   },
   "outputs": [],
   "source": [
    "# pos_rate_list = []\n",
    "pos_rate_list.append(make_roc_curve(clf_cont, X_val, y_val))"
   ]
  },
  {
   "cell_type": "code",
   "execution_count": 672,
   "metadata": {
    "collapsed": true
   },
   "outputs": [],
   "source": [
    "# pos_rate_list = []\n",
    "pos_rate_list.append(net.make_roc_curve())"
   ]
  },
  {
   "cell_type": "code",
   "execution_count": 691,
   "metadata": {
    "collapsed": false
   },
   "outputs": [
    {
     "data": {
      "text/plain": [
       "5595"
      ]
     },
     "execution_count": 691,
     "metadata": {},
     "output_type": "execute_result"
    }
   ],
   "source": [
    "np.sum(y_val==1)"
   ]
  },
  {
   "cell_type": "code",
   "execution_count": 700,
   "metadata": {
    "collapsed": false
   },
   "outputs": [],
   "source": [
    "idx_1 = y_val==1\n",
    "idx_0 = y_val==0\n",
    "\n",
    "num_1 = np.sum(idx_1)\n",
    "\n",
    "X_test = np.concatenate((X_val[idx_1], X_val[idx_0][:int(0.2*num_1)]))\n",
    "y_test = np.concatenate((y_val[idx_1], y_val[idx_0][:int(0.2*num_1)]))"
   ]
  },
  {
   "cell_type": "code",
   "execution_count": 701,
   "metadata": {
    "collapsed": true
   },
   "outputs": [],
   "source": [
    "pos_rate_list.append(make_roc_curve(clf_cont, X_test, y_test))"
   ]
  },
  {
   "cell_type": "code",
   "execution_count": 797,
   "metadata": {
    "collapsed": false
   },
   "outputs": [
    {
     "data": {
      "text/plain": [
       "<matplotlib.text.Text at 0x11948c410>"
      ]
     },
     "execution_count": 797,
     "metadata": {},
     "output_type": "execute_result"
    },
    {
     "data": {
      "image/png": "[encoded data removed]",
      "text/plain": [
       "<matplotlib.figure.Figure at 0x1194b2cd0>"
      ]
     },
     "metadata": {},
     "output_type": "display_data"
    }
   ],
   "source": [
    "fig = figure(figsize=(8,8))\n",
    "ax = fig.add_subplot(111, aspect='equal')\n",
    "ax.plot(np.arange(0,1.01,0.1), np.arange(0,1.01,0.1),  c=dark_grey, lw=1)\n",
    "for i in range(len(pos_rate_list)):\n",
    "    if i == len(pos_rate_list)-1:\n",
    "        ax.plot(pos_rate_list[i][0], pos_rate_list[i][1], 'o', c=almost_black, lw=3)\n",
    "    else:\n",
    "        ax.plot(pos_rate_list[i][0], pos_rate_list[i][1], 'o', c=my_map[i%8], markeredgecolor=my_map[i%8])\n",
    "xlabel('false pos rate', fontsize=14)\n",
    "ylabel('true pos rate', fontsize=14)"
   ]
  },
  {
   "cell_type": "code",
   "execution_count": 739,
   "metadata": {
    "collapsed": false
   },
   "outputs": [],
   "source": [
    "(false_pos_rate, true_pos_rate, num_pos, num_neg) = make_roc_cat(X_val_cat, y_val_cat)"
   ]
  },
  {
   "cell_type": "code",
   "execution_count": 795,
   "metadata": {
    "collapsed": true
   },
   "outputs": [],
   "source": []
  },
  {
   "cell_type": "code",
   "execution_count": 740,
   "metadata": {
    "collapsed": false
   },
   "outputs": [
    {
     "data": {
      "text/plain": [
       "[<matplotlib.lines.Line2D at 0x172d7c510>]"
      ]
     },
     "execution_count": 740,
     "metadata": {},
     "output_type": "execute_result"
    },
    {
     "data": {
      "image/png": "[encoded data removed]",
      "text/plain": [
       "<matplotlib.figure.Figure at 0x11d469fd0>"
      ]
     },
     "metadata": {},
     "output_type": "display_data"
    }
   ],
   "source": [
    "plot(false_pos_rate, true_pos_rate)"
   ]
  },
  {
   "cell_type": "code",
   "execution_count": null,
   "metadata": {
    "collapsed": true
   },
   "outputs": [],
   "source": []
  },
  {
   "cell_type": "code",
   "execution_count": 133,
   "metadata": {
    "collapsed": false
   },
   "outputs": [
    {
     "name": "stdout",
     "output_type": "stream",
     "text": [
      "[0.0098266614202581204]\n"
     ]
    }
   ],
   "source": [
    "# for n in arange(1,100,10):\n",
    "kappa_list = []\n",
    "clf_cat = MultinomialNB()\n",
    "clf_cat.fit(X_train_cat, y_train_cat)\n",
    "y_pred_cat = clf_cat.predict(X_val_cat)\n",
    "y_pred_prob_cat  = clf_cat.predict_proba(X_val_cat)\n",
    "y_test_prob_cat  = clf_cat.predict_proba(X_test_cat)\n",
    "\n",
    "kappa_list.append(skll.metrics.kappa(y_val_cat, y_pred_cat))\n",
    "print kappa_list"
   ]
  },
  {
   "cell_type": "code",
   "execution_count": 1084,
   "metadata": {
    "collapsed": false
   },
   "outputs": [
    {
     "data": {
      "text/plain": [
       "array([  9.72773312e-01,   9.31845830e-01,   9.87411479e-01, ...,\n",
       "         9.72773312e-01,   9.99992126e-01,   1.46908592e-25])"
      ]
     },
     "execution_count": 1084,
     "metadata": {},
     "output_type": "execute_result"
    }
   ],
   "source": [
    "y_pred_prob_cat[:,1]"
   ]
  },
  {
   "cell_type": "code",
   "execution_count": 1085,
   "metadata": {
    "collapsed": false
   },
   "outputs": [
    {
     "data": {
      "text/plain": [
       "array([ 0.5 ,  0.75,  0.75, ...,  0.85,  0.8 ,  0.55])"
      ]
     },
     "execution_count": 1085,
     "metadata": {},
     "output_type": "execute_result"
    }
   ],
   "source": [
    "y_pred_prob_cont[:,1]"
   ]
  },
  {
   "cell_type": "code",
   "execution_count": 1086,
   "metadata": {
    "collapsed": true
   },
   "outputs": [],
   "source": [
    "X_comb = np.hstack((np.array([y_pred_prob_cat[:,1]]).T, np.array([y_pred_prob_cont[:,1]]).T))\n",
    "X_comb_test = np.hstack((np.array([y_test_prob_cat[:,1]]).T, np.array([y_test_prob_cont[:,1]]).T))"
   ]
  },
  {
   "cell_type": "code",
   "execution_count": 1087,
   "metadata": {
    "collapsed": false
   },
   "outputs": [
    {
     "data": {
      "text/plain": [
       "array([[  9.72773312e-01,   5.00000000e-01],\n",
       "       [  9.31845830e-01,   7.50000000e-01],\n",
       "       [  9.87411479e-01,   7.50000000e-01],\n",
       "       ..., \n",
       "       [  9.72773312e-01,   8.50000000e-01],\n",
       "       [  9.99992126e-01,   8.00000000e-01],\n",
       "       [  1.46908592e-25,   5.50000000e-01]])"
      ]
     },
     "execution_count": 1087,
     "metadata": {},
     "output_type": "execute_result"
    }
   ],
   "source": [
    "X_comb"
   ]
  },
  {
   "cell_type": "code",
   "execution_count": 1088,
   "metadata": {
    "collapsed": true
   },
   "outputs": [],
   "source": [
    "y_comb = y_val_cat\n",
    "y_comb_test = y_test_cat"
   ]
  },
  {
   "cell_type": "code",
   "execution_count": 1089,
   "metadata": {
    "collapsed": true
   },
   "outputs": [],
   "source": [
    "scaler = preprocessing.StandardScaler().fit(X_comb)\n",
    "X_comb = scaler.transform(X_comb)\n",
    "X_comb_test = scaler.transform(X_comb_test)\n",
    "# X_test_cont = scaler.transform(X_test_cont)"
   ]
  },
  {
   "cell_type": "code",
   "execution_count": 1090,
   "metadata": {
    "collapsed": false
   },
   "outputs": [
    {
     "data": {
      "text/plain": [
       "array([[ 0.49228056, -2.3690751 ],\n",
       "       [ 0.38533802, -0.44503133],\n",
       "       [ 0.53052975, -0.44503133],\n",
       "       ..., \n",
       "       [ 0.49228056,  0.32458619],\n",
       "       [ 0.56340268, -0.06022257],\n",
       "       [-2.04955311, -1.98426635]])"
      ]
     },
     "execution_count": 1090,
     "metadata": {},
     "output_type": "execute_result"
    }
   ],
   "source": [
    "X_comb"
   ]
  },
  {
   "cell_type": "code",
   "execution_count": 1091,
   "metadata": {
    "collapsed": false
   },
   "outputs": [
    {
     "name": "stdout",
     "output_type": "stream",
     "text": [
      "[0.12191275568326765]\n"
     ]
    }
   ],
   "source": [
    "# for n in arange(1,100,10):\n",
    "kappa_list = []\n",
    "clf_comb = GaussianNB()\n",
    "clf_comb.fit(X_comb, y_comb)\n",
    "y_pred = clf_comb.predict(X_comb_test)\n",
    "y_pred_prob  = clf_comb.predict_proba(X_comb_test)\n",
    "# y_train_prob_cat  = clf_cat.predict_proba(X_val_cat)\n",
    "kappa_list.append(skll.metrics.kappa(y_comb_test, y_pred))\n",
    "print kappa_list"
   ]
  },
  {
   "cell_type": "code",
   "execution_count": null,
   "metadata": {
    "collapsed": true
   },
   "outputs": [],
   "source": []
  },
  {
   "cell_type": "code",
   "execution_count": null,
   "metadata": {
    "collapsed": true
   },
   "outputs": [],
   "source": []
  },
  {
   "cell_type": "code",
   "execution_count": null,
   "metadata": {
    "collapsed": true
   },
   "outputs": [],
   "source": []
  },
  {
   "cell_type": "code",
   "execution_count": 841,
   "metadata": {
    "collapsed": false
   },
   "outputs": [
    {
     "data": {
      "text/plain": [
       "[<matplotlib.lines.Line2D at 0x1ce3c7510>]"
      ]
     },
     "execution_count": 841,
     "metadata": {},
     "output_type": "execute_result"
    },
    {
     "data": {
      "image/png": "[encoded data removed]",
      "text/plain": [
       "<matplotlib.figure.Figure at 0x1c6e18d90>"
      ]
     },
     "metadata": {},
     "output_type": "display_data"
    }
   ],
   "source": [
    "kappa_list = []\n",
    "for n in arange(10,11,1):\n",
    "    clf = RandomForestClassifier(n_estimators=n, random_state=1)\n",
    "    clf.fit(X_train, y_train)\n",
    "    y_pred = clf.predict(X_val)\n",
    "    kappa_list.append(skll.metrics.kappa(y_val, y_pred))\n",
    "plot(kappa_list)"
   ]
  },
  {
   "cell_type": "code",
   "execution_count": null,
   "metadata": {
    "collapsed": true
   },
   "outputs": [],
   "source": []
  },
  {
   "cell_type": "code",
   "execution_count": null,
   "metadata": {
    "collapsed": true
   },
   "outputs": [],
   "source": [
    "kappa_list = []\n",
    "for n in arange(10000,140000,10000):\n",
    "    num_train = n\n",
    "    X_train = X[:num_train]\n",
    "    y_train = y[:num_train]\n",
    "\n",
    "    X_val = X[num_train:num_train+10000]\n",
    "    y_val = y[num_train:num_train+10000]\n",
    "\n",
    "    scaler = preprocessing.StandardScaler().fit(X_train)\n",
    "    X_train = scaler.transform(X_train)\n",
    "    X_val = scaler.transform(X_val)\n",
    "    \n",
    "    # for n in arange(1,100,10):\n",
    "    clf = GaussianNB()\n",
    "    clf.fit(X_train, y_train)\n",
    "    y_pred = clf.predict(X_val)\n",
    "    kappa_list.append(skll.metrics.kappa(y_val, y_pred))\n",
    "#     print kappa_list\n",
    "plot(kappa_list)"
   ]
  },
  {
   "cell_type": "code",
   "execution_count": 845,
   "metadata": {
    "collapsed": false
   },
   "outputs": [
    {
     "data": {
      "text/plain": [
       "[<matplotlib.lines.Line2D at 0x1d8788250>]"
      ]
     },
     "execution_count": 845,
     "metadata": {},
     "output_type": "execute_result"
    },
    {
     "data": {
      "image/png": "[encoded data removed]",
      "text/plain": [
       "<matplotlib.figure.Figure at 0x1ce584350>"
      ]
     },
     "metadata": {},
     "output_type": "display_data"
    }
   ],
   "source": [
    "kappa_list = []\n",
    "for n in arange(10000,140000,10000):\n",
    "    num_train = n\n",
    "    X_train = X[:num_train]\n",
    "    y_train = y[:num_train]\n",
    "\n",
    "    X_val = X[num_train:num_train+10000]\n",
    "    y_val = y[num_train:num_train+10000]\n",
    "\n",
    "    scaler = preprocessing.StandardScaler().fit(X_train)\n",
    "    X_train = scaler.transform(X_train)\n",
    "    X_val = scaler.transform(X_val)\n",
    "    \n",
    "    # for n in arange(1,100,10):\n",
    "    clf = GaussianNB()\n",
    "    clf.fit(X_train, y_train)\n",
    "    y_pred = clf.predict(X_val)\n",
    "    kappa_list.append(skll.metrics.kappa(y_val, y_pred))\n",
    "#     print kappa_list\n",
    "plot(kappa_list)"
   ]
  },
  {
   "cell_type": "code",
   "execution_count": 548,
   "metadata": {
    "collapsed": false
   },
   "outputs": [],
   "source": [
    "prob_pred = clf.predict_proba(X_val)[:,1]"
   ]
  },
  {
   "cell_type": "code",
   "execution_count": 553,
   "metadata": {
    "collapsed": false
   },
   "outputs": [
    {
     "data": {
      "text/plain": [
       "(array([ 22348.,      0.,      0.,      0.,      0.,      0.,      0.,\n",
       "             0.,      0.,  97652.]),\n",
       " array([ 0. ,  0.1,  0.2,  0.3,  0.4,  0.5,  0.6,  0.7,  0.8,  0.9,  1. ]),\n",
       " <a list of 10 Patch objects>)"
      ]
     },
     "execution_count": 553,
     "metadata": {},
     "output_type": "execute_result"
    },
    {
     "data": {
      "image/png": "[encoded data removed]",
      "text/plain": [
       "<matplotlib.figure.Figure at 0x15f7a3450>"
      ]
     },
     "metadata": {},
     "output_type": "display_data"
    }
   ],
   "source": [
    "hist(y_train)"
   ]
  },
  {
   "cell_type": "code",
   "execution_count": null,
   "metadata": {
    "collapsed": true
   },
   "outputs": [],
   "source": []
  },
  {
   "cell_type": "code",
   "execution_count": 566,
   "metadata": {
    "collapsed": false
   },
   "outputs": [
    {
     "data": {
      "text/plain": [
       "0.9396681749622926"
      ]
     },
     "execution_count": 566,
     "metadata": {},
     "output_type": "execute_result"
    }
   ],
   "source": [
    "i_high = prob_pred>0.99\n",
    "1 - np.sum(np.abs(y_val[i_high] - y_pred[i_high]))/len(y_val[i_high])"
   ]
  },
  {
   "cell_type": "code",
   "execution_count": 420,
   "metadata": {
    "collapsed": false
   },
   "outputs": [
    {
     "data": {
      "text/plain": [
       "array([ 1.,  1.,  1., ...,  1.,  1.,  0.])"
      ]
     },
     "execution_count": 420,
     "metadata": {},
     "output_type": "execute_result"
    }
   ],
   "source": [
    "\n",
    "\n",
    "\n",
    "#         print 'var_cut: ' + str(var_cut) +  ' ' + str(2 *(np.sum((y_pred - ds_gain.y_val) == 0)/float(len(ds_gain.y_val)) - 0.5))\n",
    "prob_gain = clf.predict_proba(ds_gain.X_test)"
   ]
  },
  {
   "cell_type": "code",
   "execution_count": 417,
   "metadata": {
    "collapsed": false
   },
   "outputs": [
    {
     "data": {
      "text/plain": [
       "(147080,)"
      ]
     },
     "execution_count": 417,
     "metadata": {},
     "output_type": "execute_result"
    }
   ],
   "source": [
    "df_target.shape"
   ]
  },
  {
   "cell_type": "code",
   "execution_count": null,
   "metadata": {
    "collapsed": true
   },
   "outputs": [],
   "source": [
    "df.drop(drop_columns, 1)"
   ]
  }
 ],
 "metadata": {
  "kernelspec": {
   "display_name": "Python 2",
   "language": "python",
   "name": "python2"
  },
  "language_info": {
   "codemirror_mode": {
    "name": "ipython",
    "version": 2
   },
   "file_extension": ".py",
   "mimetype": "text/x-python",
   "name": "python",
   "nbconvert_exporter": "python",
   "pygments_lexer": "ipython2",
   "version": "2.7.9"
  }
 },
 "nbformat": 4,
 "nbformat_minor": 0
}
